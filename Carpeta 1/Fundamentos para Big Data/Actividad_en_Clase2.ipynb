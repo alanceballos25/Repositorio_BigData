{
 "cells": [
  {
   "cell_type": "markdown",
   "id": "b53da5a9",
   "metadata": {},
   "source": [
    "## Python básico\n",
    "\n",
    "Materia: Fundamentos de Programación en Big Data\n",
    "\n",
    "Alumno: Alan Ceballos Moreno"
   ]
  },
  {
   "cell_type": "code",
   "execution_count": 39,
   "id": "f4db9d62",
   "metadata": {
    "scrolled": true
   },
   "outputs": [
    {
     "data": {
      "text/plain": [
       "'Este  es un comentario multilinea\\nPuedo seguir escribiendo en esta linea'"
      ]
     },
     "execution_count": 39,
     "metadata": {},
     "output_type": "execute_result"
    }
   ],
   "source": [
    "#Este es un comentario de una sola linea\n",
    "\n",
    "\"\"\"Este  es un comentario multilinea\n",
    "Puedo seguir escribiendo en esta linea\"\"\""
   ]
  },
  {
   "cell_type": "code",
   "execution_count": 40,
   "id": "57705b6e",
   "metadata": {},
   "outputs": [
    {
     "name": "stdout",
     "output_type": "stream",
     "text": [
      "Este texto se imprime en pantalla\n"
     ]
    }
   ],
   "source": [
    "print(\"Este texto se imprime en pantalla\")"
   ]
  },
  {
   "cell_type": "code",
   "execution_count": 41,
   "id": "3cbde9bc",
   "metadata": {},
   "outputs": [
    {
     "name": "stdout",
     "output_type": "stream",
     "text": [
      "Este texto tiene el simbolo\" dentro de mi texto\n",
      "Tambien puedo escribir texto \"\"\"\" con comillas simples\n"
     ]
    }
   ],
   "source": [
    "print(\"Este texto tiene el simbolo\\\" dentro de mi texto\")\n",
    "print('Tambien puedo escribir texto \"\"\"\" con comillas simples')"
   ]
  },
  {
   "cell_type": "markdown",
   "id": "b53b8a52",
   "metadata": {},
   "source": [
    "## Tipos de datos primitivos en Python"
   ]
  },
  {
   "cell_type": "code",
   "execution_count": 42,
   "id": "bb4c47fc",
   "metadata": {},
   "outputs": [],
   "source": [
    "# Entero\n",
    "dato_entero = -5\n",
    "# Float (decimal)\n",
    "dato_float = 5.12443543\n",
    "#Cadena de Caracteres\n",
    "dato_texto = \"Este es un texto\"\n",
    "# Booleano\n",
    "dato_booleano = True"
   ]
  },
  {
   "cell_type": "code",
   "execution_count": 43,
   "id": "3003004b",
   "metadata": {},
   "outputs": [
    {
     "name": "stdout",
     "output_type": "stream",
     "text": [
      "-5 5.12443543 Este es un texto True\n"
     ]
    }
   ],
   "source": [
    "print(dato_entero, dato_float, dato_texto, dato_booleano)"
   ]
  },
  {
   "cell_type": "markdown",
   "id": "bb86d827",
   "metadata": {},
   "source": [
    "## Tipos de datos con función type"
   ]
  },
  {
   "cell_type": "code",
   "execution_count": 44,
   "id": "90a09bb3",
   "metadata": {},
   "outputs": [
    {
     "name": "stdout",
     "output_type": "stream",
     "text": [
      "<class 'int'> <class 'float'> <class 'str'> <class 'bool'>\n"
     ]
    }
   ],
   "source": [
    "print(type(dato_entero), type(dato_float), type(dato_texto), type(dato_booleano))"
   ]
  },
  {
   "cell_type": "code",
   "execution_count": 45,
   "id": "d71d48a0",
   "metadata": {},
   "outputs": [],
   "source": [
    "Valor =2\n",
    "\n",
    "valor =3"
   ]
  },
  {
   "cell_type": "code",
   "execution_count": 46,
   "id": "108de8a9",
   "metadata": {},
   "outputs": [
    {
     "data": {
      "text/plain": [
       "5"
      ]
     },
     "execution_count": 46,
     "metadata": {},
     "output_type": "execute_result"
    }
   ],
   "source": [
    "valor + Valor"
   ]
  },
  {
   "cell_type": "code",
   "execution_count": 47,
   "id": "e10d84b3",
   "metadata": {},
   "outputs": [
    {
     "data": {
      "text/plain": [
       "1"
      ]
     },
     "execution_count": 47,
     "metadata": {},
     "output_type": "execute_result"
    }
   ],
   "source": [
    "valor - Valor"
   ]
  },
  {
   "cell_type": "code",
   "execution_count": 48,
   "id": "31ba936d",
   "metadata": {},
   "outputs": [
    {
     "data": {
      "text/plain": [
       "6"
      ]
     },
     "execution_count": 48,
     "metadata": {},
     "output_type": "execute_result"
    }
   ],
   "source": [
    "valor * Valor"
   ]
  },
  {
   "cell_type": "code",
   "execution_count": 49,
   "id": "14069c8e",
   "metadata": {},
   "outputs": [
    {
     "data": {
      "text/plain": [
       "1.5"
      ]
     },
     "execution_count": 49,
     "metadata": {},
     "output_type": "execute_result"
    }
   ],
   "source": [
    "valor / Valor"
   ]
  },
  {
   "cell_type": "code",
   "execution_count": 50,
   "id": "1399be09",
   "metadata": {},
   "outputs": [
    {
     "data": {
      "text/plain": [
       "9"
      ]
     },
     "execution_count": 50,
     "metadata": {},
     "output_type": "execute_result"
    }
   ],
   "source": [
    "valor ** Valor"
   ]
  },
  {
   "cell_type": "code",
   "execution_count": 51,
   "id": "35735b97",
   "metadata": {},
   "outputs": [
    {
     "data": {
      "text/plain": [
       "9"
      ]
     },
     "execution_count": 51,
     "metadata": {},
     "output_type": "execute_result"
    }
   ],
   "source": [
    "valor + Valor * valor"
   ]
  },
  {
   "cell_type": "code",
   "execution_count": 52,
   "id": "dab2bd52",
   "metadata": {},
   "outputs": [
    {
     "data": {
      "text/plain": [
       "4.0"
      ]
     },
     "execution_count": 52,
     "metadata": {},
     "output_type": "execute_result"
    }
   ],
   "source": [
    "import math\n",
    "\n",
    "math.sqrt(16)"
   ]
  },
  {
   "cell_type": "code",
   "execution_count": 53,
   "id": "c3c00695",
   "metadata": {},
   "outputs": [
    {
     "data": {
      "text/plain": [
       "13.0"
      ]
     },
     "execution_count": 53,
     "metadata": {},
     "output_type": "execute_result"
    }
   ],
   "source": [
    "import math\n",
    "\n",
    "math.sqrt(169)"
   ]
  },
  {
   "cell_type": "code",
   "execution_count": 54,
   "id": "96c0f36f",
   "metadata": {},
   "outputs": [
    {
     "data": {
      "text/plain": [
       "1"
      ]
     },
     "execution_count": 54,
     "metadata": {},
     "output_type": "execute_result"
    }
   ],
   "source": [
    "valor % Valor"
   ]
  },
  {
   "cell_type": "markdown",
   "id": "aa10f708",
   "metadata": {},
   "source": [
    "## Entrada al usuario"
   ]
  },
  {
   "cell_type": "code",
   "execution_count": 56,
   "id": "6aeb3601",
   "metadata": {},
   "outputs": [
    {
     "name": "stdout",
     "output_type": "stream",
     "text": [
      "Por favor escribe tu edad:19\n"
     ]
    }
   ],
   "source": [
    "# La función input solicita una entrada al usuario\n",
    "edad = input (\"Por favor escribe tu edad:\")"
   ]
  },
  {
   "cell_type": "code",
   "execution_count": 57,
   "id": "8938d38b",
   "metadata": {},
   "outputs": [
    {
     "name": "stdout",
     "output_type": "stream",
     "text": [
      "19\n"
     ]
    }
   ],
   "source": [
    "print(edad)"
   ]
  },
  {
   "cell_type": "code",
   "execution_count": 59,
   "id": "9da9842f",
   "metadata": {},
   "outputs": [
    {
     "name": "stdout",
     "output_type": "stream",
     "text": [
      "Escribe tu edad y yo calculo los dias que has vivido: 19\n",
      "Has vivido 6935 dias\n"
     ]
    }
   ],
   "source": [
    "edad = input(\"Escribe tu edad y yo calculo los dias que has vivido: \")\n",
    "dias_vividos = int(edad) * 365\n",
    "print(\"Has vivido\", dias_vividos, \"dias\")"
   ]
  },
  {
   "cell_type": "markdown",
   "id": "7a82db26",
   "metadata": {},
   "source": [
    "## Conversiones "
   ]
  },
  {
   "cell_type": "code",
   "execution_count": 60,
   "id": "084af3c8",
   "metadata": {},
   "outputs": [
    {
     "name": "stdout",
     "output_type": "stream",
     "text": [
      "2\n"
     ]
    }
   ],
   "source": [
    "datos=\"Sergio\"\n",
    "\n",
    "int(5.5)\n",
    "float(5)\n",
    "\n",
    "print(5//2)"
   ]
  },
  {
   "cell_type": "markdown",
   "id": "8332093f",
   "metadata": {},
   "source": [
    "## Operadores Logicos"
   ]
  },
  {
   "cell_type": "code",
   "execution_count": 61,
   "id": "4a622f78",
   "metadata": {},
   "outputs": [
    {
     "name": "stdout",
     "output_type": "stream",
     "text": [
      "True\n",
      "False\n",
      "False\n",
      "True\n",
      "True\n",
      "True\n",
      "False\n",
      "True\n",
      "False\n"
     ]
    }
   ],
   "source": [
    "a = 10 \n",
    "b = 10\n",
    "c = 9.99\n",
    "\n",
    "print(a == b) #igual\n",
    "print(a != b) #diferente\n",
    "print(a < c) #menor que\n",
    "print(a > c) #mayor que\n",
    "print(a >= b) #mayor o igual que\n",
    "print(c <= a) #menor o igual que\n",
    "\n",
    "print( a == b and a == c)\n",
    "print( a == b or a == c)\n",
    "print( not (a == b) )"
   ]
  },
  {
   "cell_type": "code",
   "execution_count": 62,
   "id": "149cdb10",
   "metadata": {},
   "outputs": [
    {
     "name": "stdout",
     "output_type": "stream",
     "text": [
      "False\n",
      "True\n",
      "False\n",
      "False\n",
      "True\n",
      "False\n"
     ]
    }
   ],
   "source": [
    "a = \"5\"\n",
    "b = 5\n",
    "c = 5.0\n",
    "d = True\n",
    "e = 1\n",
    "\n",
    "print(a == b)\n",
    "print(b == c)\n",
    "print(a == c)\n",
    "print(a == d)\n",
    "print(d == e)\n",
    "print(True == 5)"
   ]
  },
  {
   "cell_type": "markdown",
   "id": "238861ff",
   "metadata": {},
   "source": [
    "## Estructuras de control"
   ]
  },
  {
   "cell_type": "code",
   "execution_count": 63,
   "id": "81ad01b5",
   "metadata": {},
   "outputs": [
    {
     "name": "stdout",
     "output_type": "stream",
     "text": [
      "Eres mayor de edad en Estados Unidos\n"
     ]
    }
   ],
   "source": [
    "a = 21\n",
    "b = \"Estados Unidos\"\n",
    "\n",
    "if a == 18 and b == \"México\": \n",
    "    print(\"Eres mayor de edad\", b)\n",
    "elif a >= 21 and b == \"Japon\": \n",
    "    print(\"Eres mayor de edad\", b)\n",
    "elif a >= 21 and b == \"Estados Unidos\": \n",
    "    print(\"Eres mayor de edad en\", b)\n",
    "else:\n",
    "    print(\"No puede saber si eres mayor de edad\")\n",
    "\n",
    "          "
   ]
  },
  {
   "cell_type": "markdown",
   "id": "8f53183b",
   "metadata": {},
   "source": [
    "Ejercicios \n",
    "\n",
    "Ejercicio 1: Programa que muestra en pantalla la cadena de texto ¡Hola Mundo!\n",
    "\n",
    "Ejercicio 2: Programa que almacena la cadena ¡Hola Mundo! en una variable y luego muestra por pantalla el contenido de la variable\n",
    "\n",
    "Ejercicio 3: Programa que pregunta el nobre del usuario en consola y despues por pantalla la cadena ¡Hola nombre! donde nombre es el nombre que el usuario introdujo\n",
    "\n",
    "Ejercicio 4: Escribe un programa que pregunte el usuario po el numero de horas trabajadas y el costo por hora.Despues debe mostrar por pantalla la paga que corresponde \n",
    "\n"
   ]
  },
  {
   "cell_type": "code",
   "execution_count": 64,
   "id": "18b65792",
   "metadata": {},
   "outputs": [
    {
     "name": "stdout",
     "output_type": "stream",
     "text": [
      "Hola Mundo\n"
     ]
    }
   ],
   "source": [
    "## Ejercicio 1: Programa que muestra en pantalla la cadena de texto ¡Hola Mundo!\n",
    "\n",
    "print(\"Hola Mundo\")"
   ]
  },
  {
   "cell_type": "code",
   "execution_count": 65,
   "id": "92032835",
   "metadata": {},
   "outputs": [
    {
     "name": "stdout",
     "output_type": "stream",
     "text": [
      "Hola Mundo\n"
     ]
    }
   ],
   "source": [
    "## Ejercicio 2: Programa que almacena la cadena ¡Hola Mundo! en una variable y luego muestra por pantalla el contenido de la variable\n",
    "    \n",
    "frase = (\"Hola Mundo\")\n",
    "print(frase)"
   ]
  },
  {
   "cell_type": "code",
   "execution_count": 66,
   "id": "f8ddde2a",
   "metadata": {},
   "outputs": [
    {
     "name": "stdout",
     "output_type": "stream",
     "text": [
      "¿Cuál es tu nombre? Alan\n",
      "¡Hola Alan!\n"
     ]
    }
   ],
   "source": [
    "##Ejercicio 3: Programa que pregunta el nobre del usuario en consola y despues por pantalla la cadena ¡Hola nombre! donde nombre es el nombre que el usuario introdujo\n",
    "frase = input(\"¿Cuál es tu nombre? \")\n",
    "print(\"¡Hola \" + frase + \"!\")"
   ]
  },
  {
   "cell_type": "code",
   "execution_count": 67,
   "id": "8a0e5097",
   "metadata": {},
   "outputs": [
    {
     "name": "stdout",
     "output_type": "stream",
     "text": [
      "¿Cuántas horas trabajaste? 10\n",
      "¿Cuál es el costo por hora? 125\n",
      "Tu paga correspondiente es: $1250.0\n"
     ]
    }
   ],
   "source": [
    "##Ejercicio 4: Escribe un programa que pregunte el usuario por el numero de horas trabajadas y el costo por hora.Despues debe mostrar por pantalla la paga que corresponde\n",
    "\n",
    "horas = float(input(\"¿Cuántas horas trabajaste? \"))\n",
    "costo = float(input(\"¿Cuál es el costo por hora? \"))\n",
    "\n",
    "pago = horas * costo\n",
    "\n",
    "print(\"Tu paga correspondiente es: $\" + str(pago))\n"
   ]
  },
  {
   "cell_type": "code",
   "execution_count": 68,
   "id": "3c205bb4",
   "metadata": {},
   "outputs": [
    {
     "name": "stdout",
     "output_type": "stream",
     "text": [
      "Introduce un número entero: 10\n",
      "El resultado de 10 + 10^2 + 10^3 es 1110.\n"
     ]
    }
   ],
   "source": [
    "##Ejercicio 5: Programa que solicita al usuario un entero n y computa el valor de n + n^2 + n^3\n",
    "\n",
    "x = int(input(\"Introduce un número entero: \"))\n",
    "resul = x + x**2 + x**3\n",
    "print(f\"El resultado de {x} + {x}^2 + {x}^3 es {resul}.\")\n"
   ]
  },
  {
   "cell_type": "code",
   "execution_count": 4,
   "id": "ae65e871",
   "metadata": {},
   "outputs": [
    {
     "name": "stdout",
     "output_type": "stream",
     "text": [
      "Introduce el radio de la esfera: 2.5\n",
      "El volumen de la esfera con radio 2.5 es 65.44984694978736.\n"
     ]
    }
   ],
   "source": [
    "##Ejercicio 6: Programa que calcula el volumen de una esfera con radio r\n",
    "import math\n",
    "\n",
    "x = float(input(\"Introduce el radio de la esfera: \"))\n",
    "volumen = (4/3) * math.pi * x**3\n",
    "print(f\"El volumen de la esfera es {volumen}.\")\n"
   ]
  },
  {
   "cell_type": "code",
   "execution_count": 5,
   "id": "2274d28e",
   "metadata": {},
   "outputs": [
    {
     "name": "stdout",
     "output_type": "stream",
     "text": [
      "Introduce la base del triángulo: 5\n",
      "Introduce la altura del triángulo: 3\n",
      "El área del triángulo es 7.5.\n"
     ]
    }
   ],
   "source": [
    "##Ejercicio 7: Programa que calcula el área de un triángulo\n",
    "base = float(input(\"Introduce la base del triángulo: \"))\n",
    "altura = float(input(\"Introduce la altura del triángulo: \"))\n",
    "\n",
    "area = (base * altura) / 2\n",
    "\n",
    "print(f\"El área del triángulo es {area}.\")\n"
   ]
  },
  {
   "cell_type": "code",
   "execution_count": 69,
   "id": "cd59cc88",
   "metadata": {},
   "outputs": [
    {
     "name": "stdout",
     "output_type": "stream",
     "text": [
      "Introduce tu nombre: Alan\n",
      "Introduce el número de veces que quieres imprimir tu nombre: 10\n",
      "Alan\n",
      "Alan\n",
      "Alan\n",
      "Alan\n",
      "Alan\n",
      "Alan\n",
      "Alan\n",
      "Alan\n",
      "Alan\n",
      "Alan\n"
     ]
    }
   ],
   "source": [
    "## Ejercicio 8: Programa que regresa tu nombre de alumno escrito n veces\n",
    "nombre = input(\"Introduce tu nombre: \")\n",
    "x = int(input(\"Introduce el número de veces que quieres imprimir tu nombre: \"))\n",
    "\n",
    "for i in range(x):\n",
    "    print(nombre)\n"
   ]
  },
  {
   "cell_type": "code",
   "execution_count": 7,
   "id": "638c0ac1",
   "metadata": {},
   "outputs": [
    {
     "name": "stdout",
     "output_type": "stream",
     "text": [
      "Ingrese el valor de x: 10\n",
      "Ingrese el valor de y: 5\n",
      "El resultado de la ecuación es: 225.0\n"
     ]
    }
   ],
   "source": [
    "## Ejercicio 9:Programa que resuelve la ecuación (x + y)^2\n",
    "x = float(input(\"Ingrese el valor de x: \"))\n",
    "y = float(input(\"Ingrese el valor de y: \"))\n",
    "\n",
    "resultado = x**2 + 2*x*y + y**2\n",
    "\n",
    "\n",
    "print(\"El resultado de la ecuación es:\", resultado)\n",
    "\n",
    "\n"
   ]
  },
  {
   "cell_type": "code",
   "execution_count": 8,
   "id": "1c5c53e0",
   "metadata": {},
   "outputs": [
    {
     "name": "stdout",
     "output_type": "stream",
     "text": [
      "Ingrese la coordenada x1: 10\n",
      "Ingrese la coordenada y1 15\n",
      "Ingrese la coordenada x2: 20\n",
      "Ingrese la coordenada y2: 15\n",
      "La distancia entre los puntos es:  10.0\n"
     ]
    }
   ],
   "source": [
    "## Ejercicio 10: Programa que calcula la distancia entre dos puntos (x1*y1) y (x2*y2)\n",
    "import math\n",
    "\n",
    "x1 = float(input(\"Ingrese la coordenada x1: \"))\n",
    "y1 = float(input(\"Ingrese la coordenada y1 \"))\n",
    "x2 = float(input(\"Ingrese la coordenada x2: \"))\n",
    "y2 = float(input(\"Ingrese la coordenada y2: \"))\n",
    "\n",
    "distancia = math.sqrt((x2 - x1)**2 + (y2 - y1)**2)\n",
    "\n",
    "print(\"La distancia entre los puntos es: \", distancia)\n"
   ]
  },
  {
   "cell_type": "code",
   "execution_count": 9,
   "id": "d815dbb6",
   "metadata": {},
   "outputs": [
    {
     "name": "stdout",
     "output_type": "stream",
     "text": [
      "Ingrese la longitud del primer cateto: 10\n",
      "Ingrese la longitud del segundo cateto: 5\n",
      "La hipotenusa del triángulo rectángulo es:  11.180339887498949\n"
     ]
    }
   ],
   "source": [
    "##Ejercicio 11: Programa que calcula el valor de la hipotenusa de un triángulo rectángulo\n",
    "import math\n",
    "\n",
    "c1 = float(input(\"Ingrese la longitud del primer cateto: \"))\n",
    "c2 = float(input(\"Ingrese la longitud del segundo cateto: \"))\n",
    "\n",
    "\n",
    "hipotenusa = math.sqrt(c1**2 + c2**2)\n",
    "\n",
    "print(\"La hipotenusa del triángulo rectángulo es: \", hipotenusa)\n"
   ]
  },
  {
   "cell_type": "code",
   "execution_count": 16,
   "id": "a710d6d3",
   "metadata": {},
   "outputs": [
    {
     "name": "stdout",
     "output_type": "stream",
     "text": [
      "Ingrese la longitud en metros: 100\n",
      "100.0 Metros equivalen a 3936.9999999999995 Pulgadas\n",
      "100.0 Metros equivalen a 109.36099999999999 Yardas\n",
      "100.0 Metros equivalen a 0.0621371 Millas\n"
     ]
    }
   ],
   "source": [
    "##Ejercicio 12: Programa que solicita al usuario un valor en metros y regresa la equivalencia en pulgadas, yardas y millas.\n",
    "\n",
    "metros = float(input(\"Ingrese la longitud en metros: \"))\n",
    "\n",
    "pulgadas = metros * 39.37\n",
    "yardas = metros * 1.09361\n",
    "millas = metros * 0.000621371\n",
    "\n",
    "\n",
    "print(metros, \"Metros equivalen a\", pulgadas,\"Pulgadas\")\n",
    "print(metros, \"Metros equivalen a\", yardas,\"Yardas\")\n",
    "print(metros, \"Metros equivalen a\", millas,\"Millas\")"
   ]
  },
  {
   "cell_type": "code",
   "execution_count": null,
   "id": "e0fdc2e7",
   "metadata": {},
   "outputs": [],
   "source": []
  }
 ],
 "metadata": {
  "kernelspec": {
   "display_name": "Python 3 (ipykernel)",
   "language": "python",
   "name": "python3"
  },
  "language_info": {
   "codemirror_mode": {
    "name": "ipython",
    "version": 3
   },
   "file_extension": ".py",
   "mimetype": "text/x-python",
   "name": "python",
   "nbconvert_exporter": "python",
   "pygments_lexer": "ipython3",
   "version": "3.9.13"
  }
 },
 "nbformat": 4,
 "nbformat_minor": 5
}
