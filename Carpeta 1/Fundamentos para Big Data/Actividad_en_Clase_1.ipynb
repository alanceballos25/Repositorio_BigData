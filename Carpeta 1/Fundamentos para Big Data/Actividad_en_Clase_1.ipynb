{
  "nbformat": 4,
  "nbformat_minor": 0,
  "metadata": {
    "colab": {
      "provenance": []
    },
    "kernelspec": {
      "name": "python3",
      "display_name": "Python 3"
    },
    "language_info": {
      "name": "python"
    }
  },
  "cells": [
    {
      "cell_type": "markdown",
      "source": [
        "Nombre del Alumno: Alan Ceballos Moreno \n",
        "\n",
        "Fecha: 20/04/2023"
      ],
      "metadata": {
        "id": "-5KCV9jWKYvl"
      }
    },
    {
      "cell_type": "code",
      "execution_count": 1,
      "metadata": {
        "id": "PGG2KV74wPyt"
      },
      "outputs": [],
      "source": [
        "%%capture\n",
        "!pip install rpy2==3.5.1"
      ]
    },
    {
      "cell_type": "code",
      "source": [
        "%load_ext rpy2.ipython"
      ],
      "metadata": {
        "id": "moith3VNwfyS"
      },
      "execution_count": 2,
      "outputs": []
    },
    {
      "cell_type": "code",
      "source": [
        "from google.colab import drive \n",
        "drive.mount('/content/drive', force_remount=True)"
      ],
      "metadata": {
        "colab": {
          "base_uri": "https://localhost:8080/"
        },
        "id": "L7Yjk_1ywjVH",
        "outputId": "4ff4adf3-b69b-4b2c-b1ac-40840dc691c8"
      },
      "execution_count": 3,
      "outputs": [
        {
          "output_type": "stream",
          "name": "stdout",
          "text": [
            "Mounted at /content/drive\n"
          ]
        }
      ]
    },
    {
      "cell_type": "code",
      "source": [
        "%%R\n",
        "library(readr)\n",
        "library(magrittr)\n",
        "library(dplyr)"
      ],
      "metadata": {
        "colab": {
          "base_uri": "https://localhost:8080/"
        },
        "id": "VHImF-O0wq5S",
        "outputId": "b7622814-fa49-47c3-fd2c-f56b113af874"
      },
      "execution_count": 4,
      "outputs": [
        {
          "output_type": "stream",
          "name": "stderr",
          "text": [
            "WARNING:rpy2.rinterface_lib.callbacks:R[write to console]: \n",
            "Attaching package: ‘dplyr’\n",
            "\n",
            "\n",
            "WARNING:rpy2.rinterface_lib.callbacks:R[write to console]: The following objects are masked from ‘package:stats’:\n",
            "\n",
            "    filter, lag\n",
            "\n",
            "\n",
            "WARNING:rpy2.rinterface_lib.callbacks:R[write to console]: The following objects are masked from ‘package:base’:\n",
            "\n",
            "    intersect, setdiff, setequal, union\n",
            "\n",
            "\n"
          ]
        }
      ]
    },
    {
      "cell_type": "code",
      "source": [
        "%%R \n",
        "data <- read.csv(\"drive/MyDrive/student-mat.csv\")"
      ],
      "metadata": {
        "id": "nkknupCzwtTN"
      },
      "execution_count": 5,
      "outputs": []
    },
    {
      "cell_type": "code",
      "source": [
        "%%R\n",
        "length(rownames(data))"
      ],
      "metadata": {
        "colab": {
          "base_uri": "https://localhost:8080/"
        },
        "id": "fFjGhvH0wwrJ",
        "outputId": "5f4c4510-bbb3-474f-9ea5-cf368083072f"
      },
      "execution_count": 6,
      "outputs": [
        {
          "output_type": "stream",
          "name": "stdout",
          "text": [
            "[1] 395\n"
          ]
        }
      ]
    },
    {
      "cell_type": "code",
      "source": [
        "%%R\n",
        "length(colnames(data))"
      ],
      "metadata": {
        "colab": {
          "base_uri": "https://localhost:8080/"
        },
        "id": "Gm63MckDwzv0",
        "outputId": "12aaee57-d8d9-43d1-e481-4ac04652ae61"
      },
      "execution_count": 7,
      "outputs": [
        {
          "output_type": "stream",
          "name": "stdout",
          "text": [
            "[1] 33\n"
          ]
        }
      ]
    },
    {
      "cell_type": "code",
      "source": [
        "%%R\n",
        "colnames(data)"
      ],
      "metadata": {
        "colab": {
          "base_uri": "https://localhost:8080/"
        },
        "id": "D5l3j0Y3w2T7",
        "outputId": "36c4ef5c-a846-4379-83d2-cbe1df9c02d9"
      },
      "execution_count": 8,
      "outputs": [
        {
          "output_type": "stream",
          "name": "stdout",
          "text": [
            " [1] \"school\"     \"sex\"        \"age\"        \"address\"    \"famsize\"   \n",
            " [6] \"Pstatus\"    \"Medu\"       \"Fedu\"       \"Mjob\"       \"Fjob\"      \n",
            "[11] \"reason\"     \"guardian\"   \"traveltime\" \"studytime\"  \"failures\"  \n",
            "[16] \"schoolsup\"  \"famsup\"     \"paid\"       \"activities\" \"nursery\"   \n",
            "[21] \"higher\"     \"internet\"   \"romantic\"   \"famrel\"     \"freetime\"  \n",
            "[26] \"goout\"      \"Dalc\"       \"Walc\"       \"health\"     \"absences\"  \n",
            "[31] \"G1\"         \"G2\"         \"G3\"        \n"
          ]
        }
      ]
    },
    {
      "cell_type": "markdown",
      "source": [
        "0.Visualización previa de datos"
      ],
      "metadata": {
        "id": "n0BcBZeyw623"
      }
    },
    {
      "cell_type": "code",
      "source": [
        "%%R\n",
        "data %>%\n",
        "select(1:10, freetime) %>%\n",
        "head(n=10)\n"
      ],
      "metadata": {
        "colab": {
          "base_uri": "https://localhost:8080/"
        },
        "id": "USXuCtGbw9v6",
        "outputId": "0f0010c6-5275-4a05-baf4-d5a8f6b739f6"
      },
      "execution_count": 9,
      "outputs": [
        {
          "output_type": "stream",
          "name": "stdout",
          "text": [
            "   school sex age address famsize Pstatus Medu Fedu     Mjob     Fjob freetime\n",
            "1      GP   F  18       U     GT3       A    4    4  at_home  teacher        3\n",
            "2      GP   F  17       U     GT3       T    1    1  at_home    other        3\n",
            "3      GP   F  15       U     LE3       T    1    1  at_home    other        3\n",
            "4      GP   F  15       U     GT3       T    4    2   health services        2\n",
            "5      GP   F  16       U     GT3       T    3    3    other    other        3\n",
            "6      GP   M  16       U     LE3       T    4    3 services    other        4\n",
            "7      GP   M  16       U     LE3       T    2    2    other    other        4\n",
            "8      GP   F  17       U     GT3       A    4    4    other  teacher        1\n",
            "9      GP   M  15       U     LE3       A    3    2 services    other        2\n",
            "10     GP   M  15       U     GT3       T    3    4    other    other        5\n"
          ]
        }
      ]
    },
    {
      "cell_type": "code",
      "source": [
        "%%R\n",
        "data %>%\n",
        "select(1:10, age) %>%\n",
        "head(n=10)"
      ],
      "metadata": {
        "colab": {
          "base_uri": "https://localhost:8080/"
        },
        "id": "gOu7kYy2xABS",
        "outputId": "c2b1769c-6dc1-4489-dc7f-a54ab0407393"
      },
      "execution_count": 10,
      "outputs": [
        {
          "output_type": "stream",
          "name": "stdout",
          "text": [
            "   school sex age address famsize Pstatus Medu Fedu     Mjob     Fjob\n",
            "1      GP   F  18       U     GT3       A    4    4  at_home  teacher\n",
            "2      GP   F  17       U     GT3       T    1    1  at_home    other\n",
            "3      GP   F  15       U     LE3       T    1    1  at_home    other\n",
            "4      GP   F  15       U     GT3       T    4    2   health services\n",
            "5      GP   F  16       U     GT3       T    3    3    other    other\n",
            "6      GP   M  16       U     LE3       T    4    3 services    other\n",
            "7      GP   M  16       U     LE3       T    2    2    other    other\n",
            "8      GP   F  17       U     GT3       A    4    4    other  teacher\n",
            "9      GP   M  15       U     LE3       A    3    2 services    other\n",
            "10     GP   M  15       U     GT3       T    3    4    other    other\n"
          ]
        }
      ]
    },
    {
      "cell_type": "markdown",
      "source": [
        "1. Alumnos que salen de casa regularmente (>=3) y toman regularmente los fines de semana"
      ],
      "metadata": {
        "id": "EdwGNxkKxF63"
      }
    },
    {
      "cell_type": "code",
      "source": [
        "%%R\n",
        "data %>%\n",
        "filter(goout >=3 & Walc >= 3)%>%\n",
        "select(1:9, goout, Walc)%>%\n",
        "head(n=100)"
      ],
      "metadata": {
        "colab": {
          "base_uri": "https://localhost:8080/"
        },
        "id": "xz4FcRRuxJH4",
        "outputId": "5bcca4d0-1468-41e9-c273-10365f548e6a"
      },
      "execution_count": 11,
      "outputs": [
        {
          "output_type": "stream",
          "name": "stdout",
          "text": [
            "    school sex age address famsize Pstatus Medu Fedu     Mjob goout Walc\n",
            "1       GP   M  15       U     LE3       T    4    4   health     3    3\n",
            "2       GP   M  17       U     GT3       T    3    2 services     5    4\n",
            "3       GP   M  16       U     LE3       T    4    3   health     3    3\n",
            "4       GP   M  16       U     LE3       T    2    2    other     4    4\n",
            "5       GP   M  15       U     GT3       T    4    2   health     4    4\n",
            "6       GP   M  16       U     GT3       T    4    4  teacher     5    5\n",
            "7       GP   M  15       U     LE3       T    4    4  teacher     3    4\n",
            "8       GP   F  16       U     LE3       A    3    3    other     5    4\n",
            "9       GP   F  16       U     LE3       T    2    2 services     3    3\n",
            "10      GP   M  15       U     LE3       A    4    2   health     5    4\n",
            "11      GP   F  15       U     GT3       T    4    4 services     4    3\n",
            "12      GP   F  15       U     LE3       A    3    3    other     4    4\n",
            "13      GP   F  16       R     GT3       T    4    4   health     4    3\n",
            "14      GP   F  16       U     GT3       T    1    1 services     5    5\n",
            "15      GP   F  16       U     GT3       T    4    3  teacher     4    4\n",
            "16      GP   F  15       U     LE3       T    4    3 services     4    4\n",
            "17      GP   M  15       U     GT3       A    4    4    other     3    5\n",
            "18      GP   F  15       R     LE3       T    2    2   health     3    3\n",
            "19      GP   F  15       R     GT3       T    1    1    other     4    4\n",
            "20      GP   F  16       U     GT3       T    3    3    other     3    4\n",
            "21      GP   M  15       U     GT3       T    4    3  teacher     3    3\n",
            "22      GP   F  16       U     GT3       T    2    2    other     3    3\n",
            "23      GP   M  15       U     LE3       T    2    2 services     3    3\n",
            "24      GP   F  15       U     GT3       T    4    4 services     4    3\n",
            "25      GP   F  15       U     GT3       T    4    2    other     3    3\n",
            "26      GP   M  16       U     LE3       A    4    4  teacher     3    5\n",
            "27      GP   F  16       U     GT3       T    3    3    other     3    3\n",
            "28      GP   F  15       U     GT3       T    4    3 services     5    3\n",
            "29      GP   F  16       U     LE3       T    3    1    other     3    3\n",
            "30      GP   M  16       U     GT3       T    4    4 services     5    5\n",
            "31      GP   M  15       R     GT3       T    4    4    other     5    5\n",
            "32      GP   M  17       R     GT3       T    1    3    other     4    4\n",
            "33      GP   M  16       U     GT3       T    4    4   health     4    4\n",
            "34      GP   M  16       R     GT3       T    4    4  teacher     5    5\n",
            "35      GP   F  17       U     LE3       T    2    2    other     4    3\n",
            "36      GP   M  17       R     GT3       T    3    4  at_home     5    4\n",
            "37      GP   M  16       U     LE3       T    1    1 services     4    3\n",
            "38      GP   F  16       U     LE3       T    1    1  at_home     4    3\n",
            "39      GP   M  15       U     LE3       A    2    1 services     5    5\n",
            "40      GP   M  18       U     LE3       T    1    1    other     5    5\n",
            "41      GP   M  16       U     LE3       T    2    1  at_home     4    5\n",
            "42      GP   F  18       R     GT3       T    1    1  at_home     5    5\n",
            "43      GP   M  16       U     GT3       T    3    3    other     5    4\n",
            "44      GP   M  15       R     GT3       T    3    2    other     4    4\n",
            "45      GP   M  16       U     LE3       T    1    2    other     4    4\n",
            "46      GP   M  17       U     GT3       T    1    3  at_home     3    4\n",
            "47      GP   M  17       R     LE3       T    1    1    other     5    5\n",
            "48      GP   M  16       U     GT3       T    2    2    other     5    4\n",
            "49      GP   M  16       U     GT3       T    3    4    other     5    4\n",
            "50      GP   M  17       U     LE3       T    4    4  teacher     4    3\n",
            "51      GP   M  17       U     LE3       T    4    3  teacher     4    4\n",
            "52      GP   F  16       U     GT3       T    2    2 services     4    4\n",
            "53      GP   M  17       U     GT3       T    3    3    other     4    4\n",
            "54      GP   M  16       R     GT3       T    4    2  teacher     3    4\n",
            "55      GP   M  16       U     GT3       T    4    3  teacher     3    3\n",
            "56      GP   F  17       U     LE3       T    3    3    other     3    3\n",
            "57      GP   M  17       U     GT3       T    3    3 services     4    3\n",
            "58      GP   F  17       U     GT3       A    3    3   health     3    3\n",
            "59      GP   M  17       R     GT3       T    1    2  at_home     3    5\n",
            "60      GP   M  17       U     GT3       T    1    2  at_home     4    5\n",
            "61      GP   M  16       R     LE3       T    3    3  teacher     4    5\n",
            "62      GP   F  17       U     GT3       T    4    4 services     4    3\n",
            "63      GP   F  16       U     GT3       T    4    3   health     5    5\n",
            "64      GP   F  16       U     GT3       T    2    3    other     3    3\n",
            "65      GP   F  17       U     GT3       T    1    1    other     4    3\n",
            "66      GP   F  17       U     GT3       T    3    4  at_home     3    4\n",
            "67      GP   M  17       U     LE3       T    4    4 services     5    5\n",
            "68      GP   M  18       U     GT3       T    2    2 services     4    4\n",
            "69      GP   F  17       U     LE3       T    3    2    other     4    3\n",
            "70      GP   F  17       U     GT3       T    4    3    other     5    4\n",
            "71      GP   M  18       U     LE3       T    3    3 services     4    4\n",
            "72      GP   F  17       U     GT3       T    2    3  at_home     3    4\n",
            "73      GP   M  18       U     GT3       T    2    2    other     3    5\n",
            "74      GP   F  17       U     GT3       T    3    2    other     4    3\n",
            "75      GP   M  17       U     LE3       T    2    3 services     3    3\n",
            "76      GP   M  17       U     GT3       T    4    4  teacher     5    3\n",
            "77      GP   M  16       U     GT3       T    4    4   health     4    4\n",
            "78      GP   M  16       U     GT3       T    3    2  at_home     3    3\n",
            "79      GP   M  18       U     GT3       T    2    2    other     4    5\n",
            "80      GP   M  17       U     LE3       T    4    3   health     5    4\n",
            "81      GP   M  17       R     LE3       A    4    4  teacher     3    3\n",
            "82      GP   M  22       U     GT3       T    3    1 services     5    5\n",
            "83      GP   M  18       R     LE3       T    3    3    other     3    3\n",
            "84      GP   M  18       U     GT3       T    3    2 services     5    4\n",
            "85      GP   M  16       U     GT3       T    3    3  at_home     3    3\n",
            "86      GP   M  18       U     GT3       T    2    1 services     5    5\n",
            "87      GP   M  18       R     LE3       A    3    4    other     5    4\n",
            "88      GP   M  17       U     GT3       T    3    1 services     4    4\n",
            "89      GP   M  18       U     GT3       T    4    2   health     5    3\n",
            "90      GP   F  19       U     GT3       T    3    3    other     5    3\n",
            "91      GP   F  18       U     GT3       T    2    3    other     5    3\n",
            "92      GP   F  17       U     LE3       T    2    2 services     4    3\n",
            "93      GP   M  18       U     GT3       T    4    4  teacher     4    4\n",
            "94      GP   M  17       U     LE3       A    4    1 services     4    4\n",
            "95      GP   M  17       U     LE3       A    3    2  teacher     4    4\n",
            "96      GP   M  18       U     GT3       T    2    1 services     4    3\n",
            "97      GP   M  17       U     GT3       T    3    3   health     3    3\n",
            "98      GP   F  19       U     GT3       T    4    4   health     4    3\n",
            "99      GP   F  19       U     LE3       T    1    1  at_home     3    3\n",
            "100     GP   F  17       R     GT3       T    3    4  at_home     4    5\n"
          ]
        }
      ]
    },
    {
      "cell_type": "markdown",
      "source": [
        "2.Alumnos que salen con amigos regularmente(>=3) y toman regularmente entre semana"
      ],
      "metadata": {
        "id": "FCOz0jC_xRgT"
      }
    },
    {
      "cell_type": "code",
      "source": [
        "%%R\n",
        "data %>%\n",
        "filter(goout >=3 & Dalc >= 3)%>%\n",
        "select(1:9, goout, Dalc)%>%\n",
        "head(n=100)"
      ],
      "metadata": {
        "colab": {
          "base_uri": "https://localhost:8080/"
        },
        "id": "vMu2eHYxxSva",
        "outputId": "d27fd330-c1e4-4691-f285-27568dffd26b"
      },
      "execution_count": 17,
      "outputs": [
        {
          "output_type": "stream",
          "name": "stdout",
          "text": [
            "   school sex age address famsize Pstatus Medu Fedu     Mjob goout Dalc\n",
            "1      GP   M  16       U     GT3       T    4    4  teacher     5    5\n",
            "2      GP   M  15       U     LE3       A    4    2   health     5    3\n",
            "3      GP   F  15       U     LE3       A    3    3    other     4    4\n",
            "4      GP   F  16       U     GT3       T    1    1 services     5    5\n",
            "5      GP   M  15       U     GT3       A    4    4    other     3    5\n",
            "6      GP   M  16       U     LE3       A    4    4  teacher     3    3\n",
            "7      GP   M  16       U     GT3       T    4    4 services     5    5\n",
            "8      GP   M  15       R     GT3       T    4    4    other     5    3\n",
            "9      GP   M  15       U     GT3       T    3    4 services     5    3\n",
            "10     GP   F  16       U     LE3       T    1    1  at_home     4    3\n",
            "11     GP   M  16       U     LE3       T    2    1  at_home     4    3\n",
            "12     GP   M  16       U     GT3       T    3    3    other     5    4\n",
            "13     GP   M  17       U     LE3       T    4    3  teacher     4    4\n",
            "14     GP   M  16       R     GT3       T    4    2  teacher     3    3\n",
            "15     GP   M  17       U     GT3       T    1    2  at_home     4    4\n",
            "16     GP   M  16       R     LE3       T    3    3  teacher     4    3\n",
            "17     GP   F  17       U     GT3       T    3    4  at_home     3    3\n",
            "18     GP   M  17       U     LE3       T    4    4 services     5    4\n",
            "19     GP   M  18       U     GT3       T    2    2    other     3    5\n",
            "20     GP   M  18       U     GT3       T    2    2    other     4    3\n",
            "21     GP   M  22       U     GT3       T    3    1 services     5    5\n",
            "22     GP   M  18       R     LE3       A    3    4    other     5    3\n",
            "23     GP   M  17       U     GT3       T    3    1 services     4    3\n",
            "24     GP   F  19       U     GT3       T    3    3    other     5    3\n",
            "25     GP   M  17       U     LE3       A    3    2  teacher     4    3\n",
            "26     GP   F  18       U     GT3       T    4    4  teacher     4    3\n",
            "27     GP   M  17       U     GT3       T    3    3    other     5    3\n",
            "28     GP   M  17       R     GT3       T    2    2 services     5    5\n",
            "29     MS   M  18       R     GT3       T    3    2    other     5    5\n",
            "30     MS   M  19       R     GT3       T    1    1    other     4    3\n",
            "31     MS   M  19       R     GT3       T    1    1    other     4    3\n",
            "32     MS   F  18       R     LE3       T    4    4  teacher     3    3\n",
            "33     MS   M  18       R     GT3       T    4    2    other     3    4\n",
            "34     MS   M  20       U     LE3       A    2    2 services     4    4\n",
            "35     MS   M  17       U     LE3       T    3    1 services     5    3\n",
            "36     MS   M  21       R     GT3       T    1    1    other     3    3\n",
            "37     MS   M  19       U     LE3       T    1    1    other     3    3\n"
          ]
        }
      ]
    },
    {
      "cell_type": "markdown",
      "source": [
        "3. Alumnos que salen con amigos y toman regularmente cualquier dia"
      ],
      "metadata": {
        "id": "y6i9RwKvxcRY"
      }
    },
    {
      "cell_type": "code",
      "source": [
        "%%R\n",
        "data %>%\n",
        "filter(goout >= 3 & Dalc >=3 | Walc >=3) %>%\n",
        "select(1:9, goout, Dalc, Walc) %>%\n",
        "head (n=50)\n"
      ],
      "metadata": {
        "colab": {
          "base_uri": "https://localhost:8080/"
        },
        "id": "RUkOBRiFxXI9",
        "outputId": "1cd931d9-30c2-4af9-f71e-fdbfd99e3954"
      },
      "execution_count": 18,
      "outputs": [
        {
          "output_type": "stream",
          "name": "stdout",
          "text": [
            "   school sex age address famsize Pstatus Medu Fedu     Mjob goout Dalc Walc\n",
            "1      GP   F  15       U     LE3       T    1    1  at_home     2    2    3\n",
            "2      GP   M  15       U     LE3       T    4    4   health     3    1    3\n",
            "3      GP   M  17       U     GT3       T    3    2 services     5    2    4\n",
            "4      GP   M  16       U     LE3       T    4    3   health     3    1    3\n",
            "5      GP   M  16       U     LE3       T    4    2  teacher     1    1    3\n",
            "6      GP   M  16       U     LE3       T    2    2    other     4    2    4\n",
            "7      GP   F  16       U     GT3       T    2    2 services     2    1    3\n",
            "8      GP   M  15       U     GT3       T    4    2   health     4    2    4\n",
            "9      GP   M  16       U     GT3       T    4    4  teacher     5    5    5\n",
            "10     GP   M  15       U     GT3       T    4    4   health     2    3    4\n",
            "11     GP   M  15       U     LE3       T    4    4  teacher     3    2    4\n",
            "12     GP   F  16       U     LE3       A    3    3    other     5    1    4\n",
            "13     GP   F  16       U     LE3       T    2    2 services     3    2    3\n",
            "14     GP   M  15       U     LE3       A    4    2   health     5    3    4\n",
            "15     GP   F  15       U     GT3       T    4    4 services     4    2    3\n",
            "16     GP   F  15       U     LE3       A    3    3    other     4    4    4\n",
            "17     GP   F  16       R     GT3       T    4    4   health     4    2    3\n",
            "18     GP   F  16       U     GT3       T    1    1 services     5    5    5\n",
            "19     GP   F  16       U     GT3       T    4    3  teacher     4    2    4\n",
            "20     GP   F  15       U     LE3       T    4    3 services     4    2    4\n",
            "21     GP   M  15       U     GT3       A    4    4    other     3    5    5\n",
            "22     GP   F  15       R     LE3       T    2    2   health     3    1    3\n",
            "23     GP   F  15       R     LE3       T    3    1    other     2    2    3\n",
            "24     GP   F  15       R     GT3       T    1    1    other     4    2    4\n",
            "25     GP   F  16       U     GT3       T    3    3    other     3    2    4\n",
            "26     GP   M  15       U     GT3       T    4    3  teacher     3    2    3\n",
            "27     GP   F  16       U     GT3       T    2    2    other     3    1    3\n",
            "28     GP   M  15       U     GT3       T    2    3    other     2    1    3\n",
            "29     GP   M  15       U     LE3       T    2    2 services     3    1    3\n",
            "30     GP   F  15       U     GT3       T    1    1    other     2    2    3\n",
            "31     GP   F  15       U     GT3       T    4    4 services     4    2    3\n",
            "32     GP   F  15       U     GT3       T    4    2    other     3    1    3\n",
            "33     GP   M  16       U     LE3       A    4    4  teacher     3    3    5\n",
            "34     GP   F  16       U     GT3       T    3    3    other     3    1    3\n",
            "35     GP   F  15       U     GT3       T    4    3 services     5    1    3\n",
            "36     GP   F  16       U     LE3       T    3    1    other     3    2    3\n",
            "37     GP   M  16       U     GT3       T    4    4 services     5    5    5\n",
            "38     GP   M  15       R     GT3       T    4    4    other     5    3    5\n",
            "39     GP   M  17       R     GT3       T    1    3    other     4    1    4\n",
            "40     GP   M  16       U     GT3       T    4    4   health     4    1    4\n",
            "41     GP   M  15       U     GT3       T    3    4 services     5    3    2\n",
            "42     GP   M  16       R     GT3       T    4    4  teacher     5    2    5\n",
            "43     GP   F  17       U     LE3       T    2    2    other     4    1    3\n",
            "44     GP   F  16       U     GT3       A    3    4 services     1    1    4\n",
            "45     GP   M  17       R     GT3       T    3    4  at_home     5    2    4\n",
            "46     GP   M  16       U     LE3       T    1    1 services     4    1    3\n",
            "47     GP   F  16       U     LE3       T    1    1  at_home     4    3    3\n",
            "48     GP   M  15       U     LE3       A    2    1 services     5    2    5\n",
            "49     GP   M  18       U     LE3       T    1    1    other     5    2    5\n",
            "50     GP   M  16       U     LE3       T    2    1  at_home     4    3    5\n"
          ]
        }
      ]
    },
    {
      "cell_type": "markdown",
      "source": [
        "4. ¿Los alumnos del ejercicio 1 son los mismos que los del ejercicio 2? ¿Porque?"
      ],
      "metadata": {
        "id": "1lQDmW9Wyww-"
      }
    },
    {
      "cell_type": "markdown",
      "source": [
        "En estos ejercicios se ven diferentes resultados esto pasa porque las personas que si salen a tomar en fin de semana o entre semana son columnas diferentes pero existen personas que llegan a tomar en fin de semana y entre semana y eso lo podemos ver en el ejercicio anterior "
      ],
      "metadata": {
        "id": "E7d0V8ETLPCv"
      }
    },
    {
      "cell_type": "code",
      "source": [
        "%%R\n",
        "data %>%\n",
        "select(goout, Dalc, Walc) %>%\n",
        "head(n=50)"
      ],
      "metadata": {
        "colab": {
          "base_uri": "https://localhost:8080/"
        },
        "id": "JpuO30XPy1Cs",
        "outputId": "ec9e5bfe-04bc-49fc-e930-cb1306b4e2d0"
      },
      "execution_count": 19,
      "outputs": [
        {
          "output_type": "stream",
          "name": "stdout",
          "text": [
            "   goout Dalc Walc\n",
            "1      4    1    1\n",
            "2      3    1    1\n",
            "3      2    2    3\n",
            "4      2    1    1\n",
            "5      2    1    2\n",
            "6      2    1    2\n",
            "7      4    1    1\n",
            "8      4    1    1\n",
            "9      2    1    1\n",
            "10     1    1    1\n",
            "11     3    1    2\n",
            "12     2    1    1\n",
            "13     3    1    3\n",
            "14     3    1    2\n",
            "15     2    1    1\n",
            "16     4    1    2\n",
            "17     3    1    2\n",
            "18     2    1    1\n",
            "19     5    2    4\n",
            "20     3    1    3\n",
            "21     1    1    1\n",
            "22     2    1    1\n",
            "23     1    1    3\n",
            "24     4    2    4\n",
            "25     2    1    1\n",
            "26     2    1    3\n",
            "27     2    1    2\n",
            "28     4    2    4\n",
            "29     3    1    1\n",
            "30     5    5    5\n",
            "31     2    3    4\n",
            "32     1    1    1\n",
            "33     2    1    1\n",
            "34     2    1    1\n",
            "35     3    1    1\n",
            "36     1    1    1\n",
            "37     3    1    1\n",
            "38     3    1    1\n",
            "39     2    1    1\n",
            "40     1    1    1\n",
            "41     3    1    2\n",
            "42     3    2    4\n",
            "43     3    1    1\n",
            "44     1    1    1\n",
            "45     3    2    2\n",
            "46     2    1    1\n",
            "47     5    1    4\n",
            "48     2    1    1\n",
            "49     3    2    2\n",
            "50     4    1    1\n"
          ]
        }
      ]
    },
    {
      "cell_type": "markdown",
      "source": [
        "5. Alumnos que no quieren continuar sus estudios pero sus padres si cuentan con un alto grado de estudios (>=3)"
      ],
      "metadata": {
        "id": "yrXILgcTy19j"
      }
    },
    {
      "cell_type": "code",
      "source": [
        "%%R \n",
        "data %>%\n",
        "filter(higher== \"no\" & (Medu>=3 | Fedu>=3 )) %>%\n",
        "select(1:9, higher)"
      ],
      "metadata": {
        "colab": {
          "base_uri": "https://localhost:8080/"
        },
        "id": "BmNs9fihy5kk",
        "outputId": "ddcf8474-b805-42be-e707-efdb5af6e156"
      },
      "execution_count": 20,
      "outputs": [
        {
          "output_type": "stream",
          "name": "stdout",
          "text": [
            "  school sex age address famsize Pstatus Medu Fedu     Mjob higher\n",
            "1     GP   M  16       U     GT3       T    4    4  teacher     no\n",
            "2     GP   M  19       U     GT3       T    3    2 services     no\n",
            "3     GP   M  17       U     GT3       T    1    3  at_home     no\n",
            "4     GP   M  16       U     GT3       T    3    2 services     no\n",
            "5     GP   M  22       U     GT3       T    3    1 services     no\n",
            "6     GP   M  18       U     GT3       T    3    2 services     no\n",
            "7     GP   F  18       R     GT3       A    3    2    other     no\n",
            "8     MS   M  18       U     LE3       T    1    3  at_home     no\n"
          ]
        }
      ]
    },
    {
      "cell_type": "markdown",
      "source": [
        "6. Alumnos que quieren continuar continuar pero sus padres no cuentan con un alto grado de estudios (>=3)"
      ],
      "metadata": {
        "id": "bXOpjAmLy6r6"
      }
    },
    {
      "cell_type": "code",
      "source": [
        "%%R\n",
        "data %>%\n",
        "filter(higher == \"yes\" & (Medu<=3 & Fedu<=3)) %>%\n",
        "select(1:9, higher) %>%\n",
        "head(n=50)"
      ],
      "metadata": {
        "colab": {
          "base_uri": "https://localhost:8080/"
        },
        "id": "uNWThHo5y9zO",
        "outputId": "a27c9399-26d3-4fb6-bbab-d17e4e359895"
      },
      "execution_count": 21,
      "outputs": [
        {
          "output_type": "stream",
          "name": "stdout",
          "text": [
            "   school sex age address famsize Pstatus Medu Fedu     Mjob higher\n",
            "1      GP   F  17       U     GT3       T    1    1  at_home    yes\n",
            "2      GP   F  15       U     LE3       T    1    1  at_home    yes\n",
            "3      GP   F  16       U     GT3       T    3    3    other    yes\n",
            "4      GP   M  16       U     LE3       T    2    2    other    yes\n",
            "5      GP   M  15       U     LE3       A    3    2 services    yes\n",
            "6      GP   F  15       U     GT3       T    2    1 services    yes\n",
            "7      GP   M  15       U     GT3       A    2    2    other    yes\n",
            "8      GP   F  16       U     GT3       T    3    3    other    yes\n",
            "9      GP   M  17       U     GT3       T    3    2 services    yes\n",
            "10     GP   M  16       U     LE3       T    2    2    other    yes\n",
            "11     GP   F  16       U     GT3       T    2    2 services    yes\n",
            "12     GP   M  15       U     GT3       T    2    2    other    yes\n",
            "13     GP   M  15       U     LE3       T    3    3    other    yes\n",
            "14     GP   M  16       U     GT3       T    3    2    other    yes\n",
            "15     GP   F  15       U     GT3       T    2    3    other    yes\n",
            "16     GP   F  15       R     GT3       T    2    2  at_home    yes\n",
            "17     GP   F  16       U     LE3       T    2    2    other    yes\n",
            "18     GP   M  15       U     GT3       T    2    2 services    yes\n",
            "19     GP   F  16       U     LE3       T    2    2    other    yes\n",
            "20     GP   F  16       U     LE3       A    3    3    other    yes\n",
            "21     GP   F  16       U     LE3       T    2    2 services    yes\n",
            "22     GP   F  15       U     LE3       A    3    3    other    yes\n",
            "23     GP   F  16       U     GT3       A    2    1    other    yes\n",
            "24     GP   M  15       U     LE3       T    1    2    other    yes\n",
            "25     GP   F  16       U     GT3       T    1    1 services    yes\n",
            "26     GP   F  16       U     LE3       T    1    2    other    yes\n",
            "27     GP   F  16       U     GT3       T    3    1 services    yes\n",
            "28     GP   F  15       R     LE3       T    2    2   health    yes\n",
            "29     GP   F  15       R     LE3       T    3    1    other    yes\n",
            "30     GP   M  16       U     GT3       T    3    1    other    yes\n",
            "31     GP   F  15       R     GT3       T    1    1    other    yes\n",
            "32     GP   M  16       U     GT3       T    3    1    other    yes\n",
            "33     GP   F  16       U     GT3       T    3    3    other    yes\n",
            "34     GP   F  16       U     GT3       T    2    2    other    yes\n",
            "35     GP   M  15       U     GT3       T    2    3    other    yes\n",
            "36     GP   M  15       U     GT3       T    2    3    other    yes\n",
            "37     GP   F  15       U     LE3       T    3    2 services    yes\n",
            "38     GP   M  15       U     LE3       T    2    2 services    yes\n",
            "39     GP   F  15       U     GT3       T    1    1    other    yes\n",
            "40     GP   F  16       U     LE3       T    2    2  at_home    yes\n",
            "41     GP   M  16       U     GT3       T    2    2 services    yes\n",
            "42     GP   F  16       U     GT3       T    3    3    other    yes\n",
            "43     GP   F  16       U     LE3       T    3    1    other    yes\n",
            "44     GP   M  15       U     LE3       T    2    2 services    yes\n",
            "45     GP   F  15       R     GT3       T    1    1  at_home    yes\n",
            "46     GP   F  16       U     GT3       T    2    1    other    yes\n",
            "47     GP   F  15       U     GT3       T    3    2 services    yes\n",
            "48     GP   F  15       U     GT3       A    3    3    other    yes\n",
            "49     GP   F  15       U     GT3       T    2    2    other    yes\n",
            "50     GP   M  16       U     GT3       T    3    3 services    yes\n"
          ]
        }
      ]
    },
    {
      "cell_type": "markdown",
      "source": [
        "7. Alumnos provenientes de una zona rural que no cuentan con internet en casa"
      ],
      "metadata": {
        "id": "hiLEPIPDy-iH"
      }
    },
    {
      "cell_type": "code",
      "source": [
        "%%R\n",
        "data %>%\n",
        "filter(address == \"R\" & internet == \"no\") %>%\n",
        "select(1:9, internet) %>%\n",
        "head(n=50)"
      ],
      "metadata": {
        "colab": {
          "base_uri": "https://localhost:8080/"
        },
        "id": "drBhmVP2zDAS",
        "outputId": "ff5863b0-35dc-44ae-b4f6-270d26a35297"
      },
      "execution_count": 22,
      "outputs": [
        {
          "output_type": "stream",
          "name": "stdout",
          "text": [
            "   school sex age address famsize Pstatus Medu Fedu     Mjob internet\n",
            "1      GP   F  15       R     GT3       T    2    2  at_home       no\n",
            "2      GP   F  16       R     GT3       T    4    4   health       no\n",
            "3      GP   M  15       R     GT3       T    3    4  at_home       no\n",
            "4      GP   M  17       R     GT3       T    3    4  at_home       no\n",
            "5      GP   M  15       R     GT3       T    2    3  at_home       no\n",
            "6      GP   M  17       R     LE3       T    1    2    other       no\n",
            "7      GP   F  18       R     GT3       T    1    1  at_home       no\n",
            "8      GP   M  16       R     GT3       T    2    2  at_home       no\n",
            "9      GP   M  17       R     LE3       T    1    1    other       no\n",
            "10     GP   M  17       R     GT3       T    1    2  at_home       no\n",
            "11     GP   F  17       R     LE3       T    4    4 services       no\n",
            "12     GP   F  17       R     GT3       T    2    1  at_home       no\n",
            "13     GP   M  16       R     GT3       T    2    1    other       no\n",
            "14     GP   M  18       R     GT3       T    3    2    other       no\n",
            "15     GP   M  17       R     GT3       T    1    2  at_home       no\n",
            "16     GP   F  18       R     LE3       T    1    1  at_home       no\n",
            "17     GP   F  17       R     LE3       T    3    1 services       no\n",
            "18     GP   M  19       R     GT3       T    3    3    other       no\n",
            "19     GP   F  18       R     GT3       T    2    2  at_home       no\n",
            "20     GP   F  19       R     GT3       A    3    1 services       no\n",
            "21     MS   F  18       R     LE3       A    1    4  at_home       no\n",
            "22     MS   M  18       R     LE3       T    1    1  at_home       no\n",
            "23     MS   F  17       R     GT3       T    1    2    other       no\n",
            "24     MS   M  18       R     GT3       T    1    3  at_home       no\n",
            "25     MS   M  19       R     GT3       T    1    1    other       no\n",
            "26     MS   M  18       R     GT3       T    4    2    other       no\n",
            "27     MS   F  18       R     GT3       T    2    2  at_home       no\n",
            "28     MS   M  21       R     GT3       T    1    1    other       no\n"
          ]
        }
      ]
    },
    {
      "cell_type": "markdown",
      "source": [
        "8. Promedio de Calificaciones G1,G2,G3 (mostrar primeros 50 estudiantes)"
      ],
      "metadata": {
        "id": "8BHVLbhwzNQ8"
      }
    },
    {
      "cell_type": "code",
      "source": [
        "%%R\n",
        "data %>%\n",
        "select(1:9, G1, G2, G3) %>%\n",
        "mutate(Prom = (G1+G2+G3)/3) %>%\n",
        "arrange(desc(Prom)) %>%\n",
        "head(n=50)\n"
      ],
      "metadata": {
        "colab": {
          "base_uri": "https://localhost:8080/"
        },
        "id": "y-6iP12VzVSm",
        "outputId": "9586c788-98ec-45c2-b8d2-6fb834c1fc06"
      },
      "execution_count": 23,
      "outputs": [
        {
          "output_type": "stream",
          "name": "stdout",
          "text": [
            "   school sex age address famsize Pstatus Medu Fedu     Mjob G1 G2 G3     Prom\n",
            "1      GP   M  16       U     GT3       T    4    3   health 19 19 20 19.33333\n",
            "2      GP   M  15       U     LE3       A    4    4  teacher 18 19 19 18.66667\n",
            "3      GP   M  15       U     LE3       T    4    2  teacher 18 19 19 18.66667\n",
            "4      MS   F  18       R     LE3       T    4    4    other 19 18 19 18.66667\n",
            "5      GP   M  15       U     GT3       T    4    4 services 19 18 18 18.33333\n",
            "6      GP   F  18       U     GT3       T    2    2  at_home 18 18 19 18.33333\n",
            "7      GP   M  16       R     GT3       T    4    4  teacher 18 18 18 18.00000\n",
            "8      GP   F  17       U     GT3       T    4    4 services 18 18 18 18.00000\n",
            "9      GP   M  16       U     GT3       T    2    1    other 18 18 18 18.00000\n",
            "10     GP   F  17       R     LE3       T    3    1 services 18 18 18 18.00000\n",
            "11     GP   M  15       U     LE3       A    3    2 services 16 18 19 17.66667\n",
            "12     GP   F  18       U     GT3       T    4    3 services 17 18 18 17.66667\n",
            "13     GP   M  20       U     GT3       A    3    2 services 17 18 18 17.66667\n",
            "14     GP   M  15       U     GT3       A    3    4 services 16 18 18 17.33333\n",
            "15     GP   M  16       U     GT3       T    3    3 services 16 18 18 17.33333\n",
            "16     GP   F  17       U     GT3       T    3    2   health 17 17 18 17.33333\n",
            "17     GP   F  15       U     GT3       T    4    3 services 16 17 18 17.00000\n",
            "18     GP   M  18       R     LE3       A    3    4    other 17 17 17 17.00000\n",
            "19     GP   M  15       U     GT3       T    4    4 services 17 16 17 16.66667\n",
            "20     GP   M  16       U     GT3       T    4    4 services 16 17 17 16.66667\n",
            "21     GP   F  17       U     GT3       T    2    4 services 16 17 17 16.66667\n",
            "22     MS   F  18       U     LE3       T    1    1  at_home 18 16 16 16.66667\n",
            "23     GP   M  15       R     GT3       T    4    3  teacher 17 16 16 16.33333\n",
            "24     GP   M  15       U     LE3       T    4    3  teacher 15 16 18 16.33333\n",
            "25     GP   F  16       U     GT3       T    2    3 services 16 16 17 16.33333\n",
            "26     GP   F  15       R     LE3       T    3    1    other 16 16 16 16.00000\n",
            "27     GP   M  17       U     GT3       T    4    4 services 17 15 16 16.00000\n",
            "28     GP   F  16       U     GT3       T    4    3   health 16 16 16 16.00000\n",
            "29     GP   F  18       U     LE3       T    3    3 services 16 15 17 16.00000\n",
            "30     GP   F  16       U     GT3       T    4    2 services 15 16 16 15.66667\n",
            "31     GP   F  15       U     GT3       T    4    4  teacher 16 16 15 15.66667\n",
            "32     GP   M  16       R     GT3       T    2    2  at_home 17 15 15 15.66667\n",
            "33     GP   M  18       U     LE3       T    4    4  teacher 16 15 16 15.66667\n",
            "34     GP   M  18       R     GT3       T    4    3  teacher 16 15 16 15.66667\n",
            "35     GP   M  15       U     GT3       A    2    2    other 14 16 16 15.33333\n",
            "36     GP   M  16       U     LE3       T    4    2  teacher 15 15 16 15.33333\n",
            "37     GP   M  15       U     GT3       T    4    2   health 15 16 15 15.33333\n",
            "38     GP   M  16       R     GT3       A    4    4    other 15 16 15 15.33333\n",
            "39     GP   F  16       U     LE3       T    4    3  teacher 16 15 15 15.33333\n",
            "40     GP   M  16       U     GT3       T    4    4  teacher 15 15 16 15.33333\n",
            "41     GP   F  15       U     GT3       T    1    2  at_home 16 15 15 15.33333\n",
            "42     GP   F  17       U     GT3       T    3    2    other 16 15 15 15.33333\n",
            "43     GP   F  17       U     LE3       T    0    2  at_home 16 15 15 15.33333\n",
            "44     GP   F  17       U     GT3       T    3    4 services 16 15 15 15.33333\n",
            "45     GP   M  18       U     LE3       T    3    4 services 16 15 15 15.33333\n",
            "46     MS   F  17       U     LE3       T    4    4  at_home 16 15 15 15.33333\n",
            "47     MS   M  17       U     LE3       T    3    1 services 14 16 16 15.33333\n",
            "48     GP   M  16       U     LE3       T    4    3 services 15 15 15 15.00000\n",
            "49     GP   M  15       U     LE3       T    2    2 services 15 15 15 15.00000\n",
            "50     GP   F  16       U     LE3       T    4    4   health 14 15 16 15.00000\n"
          ]
        }
      ]
    },
    {
      "cell_type": "markdown",
      "source": [
        "9. Numero de alumnos menores de edad y numero de alumnos mayores de edad "
      ],
      "metadata": {
        "id": "RDHbi7XdzWAH"
      }
    },
    {
      "cell_type": "code",
      "source": [
        "%%R\n",
        "data %>%\n",
        "group_by(age) %>%\n",
        "count(age) %>%\n",
        "filter(age >= 18)"
      ],
      "metadata": {
        "colab": {
          "base_uri": "https://localhost:8080/"
        },
        "id": "ECuUEdYtzbsZ",
        "outputId": "09683095-53d8-4c94-f2b9-93755886a229"
      },
      "execution_count": 24,
      "outputs": [
        {
          "output_type": "stream",
          "name": "stdout",
          "text": [
            "# A tibble: 5 × 2\n",
            "# Groups:   age [5]\n",
            "    age     n\n",
            "  <int> <int>\n",
            "1    18    82\n",
            "2    19    24\n",
            "3    20     3\n",
            "4    21     1\n",
            "5    22     1\n"
          ]
        }
      ]
    },
    {
      "cell_type": "markdown",
      "source": [
        "10. ¿Que grupo representa un mayor numero de relaciones romanticas, los hombres o las mujeres?"
      ],
      "metadata": {
        "id": "eE0XcU2Nzce0"
      }
    },
    {
      "cell_type": "code",
      "source": [
        "%%R\n",
        "data %>%\n",
        "group_by(sex) %>%\n",
        "count(romantic) %>%\n",
        "filter(romantic == \"yes\")"
      ],
      "metadata": {
        "colab": {
          "base_uri": "https://localhost:8080/"
        },
        "id": "uFW0reUQzge8",
        "outputId": "46f9dda8-d0a0-4014-ad42-fabdaf22f6f0"
      },
      "execution_count": 13,
      "outputs": [
        {
          "output_type": "stream",
          "name": "stdout",
          "text": [
            "# A tibble: 2 × 3\n",
            "# Groups:   sex [2]\n",
            "  sex   romantic     n\n",
            "  <chr> <chr>    <int>\n",
            "1 F     yes         79\n",
            "2 M     yes         53\n"
          ]
        }
      ]
    }
  ]
}