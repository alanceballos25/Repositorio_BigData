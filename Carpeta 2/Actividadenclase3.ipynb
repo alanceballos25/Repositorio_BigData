{
 "cells": [
  {
   "cell_type": "markdown",
   "id": "6f49b1df",
   "metadata": {},
   "source": [
    "# Python Basico\n",
    "\n",
    "# Alan Ceballos Moreno\n",
    "\n",
    "# 2904273\n",
    "\n",
    "Uso de Strings"
   ]
  },
  {
   "cell_type": "code",
   "execution_count": 1,
   "id": "11554970",
   "metadata": {},
   "outputs": [],
   "source": [
    "nombre = \"Alan Ceballos Moreno\""
   ]
  },
  {
   "cell_type": "markdown",
   "id": "acb560fd",
   "metadata": {},
   "source": [
    "Función **len** sirve para obtener la longitud de una cadena de caracteres "
   ]
  },
  {
   "cell_type": "code",
   "execution_count": 2,
   "id": "80cf4dee",
   "metadata": {},
   "outputs": [
    {
     "data": {
      "text/plain": [
       "20"
      ]
     },
     "execution_count": 2,
     "metadata": {},
     "output_type": "execute_result"
    }
   ],
   "source": [
    "len(nombre)"
   ]
  },
  {
   "cell_type": "markdown",
   "id": "f039f8b5",
   "metadata": {},
   "source": [
    "Funcion **join** sirve para adjuntar/concatenar lista de caracteres"
   ]
  },
  {
   "cell_type": "code",
   "execution_count": 3,
   "id": "1b610d87",
   "metadata": {},
   "outputs": [
    {
     "name": "stdout",
     "output_type": "stream",
     "text": [
      "Alan Ceballos Moreno\n",
      "Alan-Ceballos-Moreno\n",
      "AlanCeballosMoreno\n"
     ]
    }
   ],
   "source": [
    "print(\" \".join([\"Alan\", \"Ceballos\", \"Moreno\"]))\n",
    "print(\"-\".join([\"Alan\", \"Ceballos\", \"Moreno\"]))\n",
    "print(\"\".join([\"Alan\", \"Ceballos\", \"Moreno\"]))"
   ]
  },
  {
   "cell_type": "markdown",
   "id": "4a4e6f92",
   "metadata": {},
   "source": [
    "Función ***split*** sirve para separar cadenas de cararcteres a partir de un caracter en particular"
   ]
  },
  {
   "cell_type": "code",
   "execution_count": 4,
   "id": "09a0f4e8",
   "metadata": {},
   "outputs": [
    {
     "data": {
      "text/plain": [
       "['Alan', 'Ceballos', 'Moreno']"
      ]
     },
     "execution_count": 4,
     "metadata": {},
     "output_type": "execute_result"
    }
   ],
   "source": [
    "nombre.split(\" \")"
   ]
  },
  {
   "cell_type": "code",
   "execution_count": 5,
   "id": "73c34d68",
   "metadata": {},
   "outputs": [
    {
     "data": {
      "text/plain": [
       "['Al', 'n Ceb', 'llos Moreno']"
      ]
     },
     "execution_count": 5,
     "metadata": {},
     "output_type": "execute_result"
    }
   ],
   "source": [
    "nombre.split('a')"
   ]
  },
  {
   "cell_type": "markdown",
   "id": "a898549b",
   "metadata": {},
   "source": [
    "Función ***replace*** sirve para sustituir caracteres"
   ]
  },
  {
   "cell_type": "code",
   "execution_count": 6,
   "id": "e6c1e7f2",
   "metadata": {},
   "outputs": [
    {
     "data": {
      "text/plain": [
       "'Rodrigo Ceballos Moreno'"
      ]
     },
     "execution_count": 6,
     "metadata": {},
     "output_type": "execute_result"
    }
   ],
   "source": [
    "nombre.replace('Alan', 'Rodrigo')"
   ]
  },
  {
   "cell_type": "code",
   "execution_count": 7,
   "id": "db12909c",
   "metadata": {},
   "outputs": [
    {
     "data": {
      "text/plain": [
       "'Alan Ceballos Moreno'"
      ]
     },
     "execution_count": 7,
     "metadata": {},
     "output_type": "execute_result"
    }
   ],
   "source": [
    "nombre"
   ]
  },
  {
   "cell_type": "markdown",
   "id": "33675327",
   "metadata": {},
   "source": [
    "Funcion ***find*** sirve para buscar una cadena de cararcteres dentro de otra"
   ]
  },
  {
   "cell_type": "code",
   "execution_count": 8,
   "id": "f0176232",
   "metadata": {},
   "outputs": [
    {
     "data": {
      "text/plain": [
       "5"
      ]
     },
     "execution_count": 8,
     "metadata": {},
     "output_type": "execute_result"
    }
   ],
   "source": [
    "nombre.find(\"Ceballos\")"
   ]
  },
  {
   "cell_type": "code",
   "execution_count": 9,
   "id": "5ccdb3ad",
   "metadata": {},
   "outputs": [
    {
     "data": {
      "text/plain": [
       "-1"
      ]
     },
     "execution_count": 9,
     "metadata": {},
     "output_type": "execute_result"
    }
   ],
   "source": [
    "nombre.find(\"Rodrigo\")"
   ]
  },
  {
   "cell_type": "markdown",
   "id": "05047bb6",
   "metadata": {},
   "source": [
    "Función ***rfind*** sirve buscar la primer coincidencia de una cadena de caracteres dentro de otra buscandola desde el final"
   ]
  },
  {
   "cell_type": "code",
   "execution_count": 10,
   "id": "422680b6",
   "metadata": {},
   "outputs": [
    {
     "data": {
      "text/plain": [
       "5"
      ]
     },
     "execution_count": 10,
     "metadata": {},
     "output_type": "execute_result"
    }
   ],
   "source": [
    "nombre.rfind('C')"
   ]
  },
  {
   "cell_type": "code",
   "execution_count": 11,
   "id": "8b125fdc",
   "metadata": {},
   "outputs": [
    {
     "data": {
      "text/plain": [
       "'AlanCeballos'"
      ]
     },
     "execution_count": 11,
     "metadata": {},
     "output_type": "execute_result"
    }
   ],
   "source": [
    "\"Alan\" + \"Ceballos\""
   ]
  },
  {
   "cell_type": "markdown",
   "id": "cd58d117",
   "metadata": {},
   "source": [
    "Uso de listas"
   ]
  },
  {
   "cell_type": "code",
   "execution_count": 12,
   "id": "b585479f",
   "metadata": {},
   "outputs": [],
   "source": [
    "milista1 = [1,2,3,4,5,6]\n",
    "milista2 = ['Alan','Ceballos']\n",
    "milista3 = [[1,2,3,4], [\"a\",\"b\",\"c\",\"d\"]]"
   ]
  },
  {
   "cell_type": "code",
   "execution_count": 13,
   "id": "e294f7e0",
   "metadata": {},
   "outputs": [],
   "source": [
    "milista4 = [True, \"asda\", 1, 123.2131, []]"
   ]
  },
  {
   "cell_type": "code",
   "execution_count": 14,
   "id": "003cf025",
   "metadata": {},
   "outputs": [
    {
     "data": {
      "text/plain": [
       "6"
      ]
     },
     "execution_count": 14,
     "metadata": {},
     "output_type": "execute_result"
    }
   ],
   "source": [
    "len(milista1)"
   ]
  },
  {
   "cell_type": "code",
   "execution_count": 15,
   "id": "d86fe015",
   "metadata": {},
   "outputs": [
    {
     "data": {
      "text/plain": [
       "1"
      ]
     },
     "execution_count": 15,
     "metadata": {},
     "output_type": "execute_result"
    }
   ],
   "source": [
    "milista1[0]"
   ]
  },
  {
   "cell_type": "code",
   "execution_count": 16,
   "id": "f51e230c",
   "metadata": {},
   "outputs": [
    {
     "data": {
      "text/plain": [
       "'Alan'"
      ]
     },
     "execution_count": 16,
     "metadata": {},
     "output_type": "execute_result"
    }
   ],
   "source": [
    "milista2[0]"
   ]
  },
  {
   "cell_type": "code",
   "execution_count": 17,
   "id": "916bb4c0",
   "metadata": {},
   "outputs": [
    {
     "data": {
      "text/plain": [
       "6"
      ]
     },
     "execution_count": 17,
     "metadata": {},
     "output_type": "execute_result"
    }
   ],
   "source": [
    "milista1[-1]"
   ]
  },
  {
   "cell_type": "code",
   "execution_count": 18,
   "id": "c7d81376",
   "metadata": {},
   "outputs": [
    {
     "ename": "NameError",
     "evalue": "name 'milista' is not defined",
     "output_type": "error",
     "traceback": [
      "\u001b[1;31m---------------------------------------------------------------------------\u001b[0m",
      "\u001b[1;31mNameError\u001b[0m                                 Traceback (most recent call last)",
      "\u001b[1;32m~\\AppData\\Local\\Temp\\ipykernel_3148\\3278443902.py\u001b[0m in \u001b[0;36m<module>\u001b[1;34m\u001b[0m\n\u001b[1;32m----> 1\u001b[1;33m \u001b[0mmilista\u001b[0m \u001b[1;33m+\u001b[0m \u001b[0mmilista2\u001b[0m\u001b[1;33m\u001b[0m\u001b[1;33m\u001b[0m\u001b[0m\n\u001b[0m",
      "\u001b[1;31mNameError\u001b[0m: name 'milista' is not defined"
     ]
    }
   ],
   "source": [
    "milista + milista2"
   ]
  },
  {
   "cell_type": "markdown",
   "id": "07d84d55",
   "metadata": {},
   "source": [
    "La función ***append*** sirve para añadir un nuevo elemento al final de la lista"
   ]
  },
  {
   "cell_type": "code",
   "execution_count": null,
   "id": "658118da",
   "metadata": {},
   "outputs": [],
   "source": [
    "milista1.append(7)"
   ]
  },
  {
   "cell_type": "code",
   "execution_count": null,
   "id": "0ea156c2",
   "metadata": {},
   "outputs": [],
   "source": [
    "milista1"
   ]
  },
  {
   "cell_type": "code",
   "execution_count": null,
   "id": "76108193",
   "metadata": {},
   "outputs": [],
   "source": [
    "del milista1[-1]"
   ]
  },
  {
   "cell_type": "code",
   "execution_count": 19,
   "id": "31f13f09",
   "metadata": {},
   "outputs": [
    {
     "data": {
      "text/plain": [
       "[1, 2, 3, 4, 5, 6]"
      ]
     },
     "execution_count": 19,
     "metadata": {},
     "output_type": "execute_result"
    }
   ],
   "source": [
    "milista1"
   ]
  },
  {
   "cell_type": "code",
   "execution_count": 20,
   "id": "52a15c4b",
   "metadata": {},
   "outputs": [
    {
     "data": {
      "text/plain": [
       "[1, 2, 3, 4, 5]"
      ]
     },
     "execution_count": 20,
     "metadata": {},
     "output_type": "execute_result"
    }
   ],
   "source": [
    "milista1.remove(6)\n",
    "milista1"
   ]
  },
  {
   "cell_type": "markdown",
   "id": "db76e0f6",
   "metadata": {},
   "source": [
    "La funcion ***index*** sirve para encontrar un elemento dentro de una lista"
   ]
  },
  {
   "cell_type": "code",
   "execution_count": 21,
   "id": "328f4332",
   "metadata": {},
   "outputs": [
    {
     "data": {
      "text/plain": [
       "2"
      ]
     },
     "execution_count": 21,
     "metadata": {},
     "output_type": "execute_result"
    }
   ],
   "source": [
    "milista1.index(3)"
   ]
  },
  {
   "cell_type": "markdown",
   "id": "de03e1f1",
   "metadata": {},
   "source": [
    "La funcion ***insert*** sirve para agregar un elemento a una lista en una posición especifica"
   ]
  },
  {
   "cell_type": "code",
   "execution_count": 22,
   "id": "da11ae75",
   "metadata": {},
   "outputs": [],
   "source": [
    "milista1.insert(1, 66) #Añadir"
   ]
  },
  {
   "cell_type": "code",
   "execution_count": 23,
   "id": "5479820b",
   "metadata": {},
   "outputs": [
    {
     "data": {
      "text/plain": [
       "[1, 66, 2, 3, 4, 5]"
      ]
     },
     "execution_count": 23,
     "metadata": {},
     "output_type": "execute_result"
    }
   ],
   "source": [
    "milista1"
   ]
  },
  {
   "cell_type": "markdown",
   "id": "8bae9fb0",
   "metadata": {},
   "source": [
    "Uso de tuplas"
   ]
  },
  {
   "cell_type": "code",
   "execution_count": 24,
   "id": "79833f64",
   "metadata": {},
   "outputs": [],
   "source": [
    "mitupla = (1,True, \"Alan\")"
   ]
  },
  {
   "cell_type": "code",
   "execution_count": 25,
   "id": "af9b82de",
   "metadata": {},
   "outputs": [
    {
     "data": {
      "text/plain": [
       "3"
      ]
     },
     "execution_count": 25,
     "metadata": {},
     "output_type": "execute_result"
    }
   ],
   "source": [
    "len(mitupla)"
   ]
  },
  {
   "cell_type": "code",
   "execution_count": 26,
   "id": "44315084",
   "metadata": {},
   "outputs": [
    {
     "data": {
      "text/plain": [
       "'Alan'"
      ]
     },
     "execution_count": 26,
     "metadata": {},
     "output_type": "execute_result"
    }
   ],
   "source": [
    "mitupla[2]"
   ]
  },
  {
   "cell_type": "code",
   "execution_count": 27,
   "id": "12a2fdcb",
   "metadata": {},
   "outputs": [],
   "source": [
    "mitupla2 = 1,2,3,4,5,5,5,3,6"
   ]
  },
  {
   "cell_type": "markdown",
   "id": "28b0fee1",
   "metadata": {},
   "source": [
    "La función ***count*** devuelve el número de elementos repetidos de acuerdo a un elemento de busqueda"
   ]
  },
  {
   "cell_type": "code",
   "execution_count": 28,
   "id": "bb8e09f4",
   "metadata": {},
   "outputs": [
    {
     "data": {
      "text/plain": [
       "3"
      ]
     },
     "execution_count": 28,
     "metadata": {},
     "output_type": "execute_result"
    }
   ],
   "source": [
    "mitupla2.count(5)"
   ]
  },
  {
   "cell_type": "code",
   "execution_count": 29,
   "id": "6e22e10c",
   "metadata": {},
   "outputs": [
    {
     "data": {
      "text/plain": [
       "'Alan Ceballos Moreno'"
      ]
     },
     "execution_count": 29,
     "metadata": {},
     "output_type": "execute_result"
    }
   ],
   "source": [
    "nombre"
   ]
  },
  {
   "cell_type": "code",
   "execution_count": 30,
   "id": "d0a408c6",
   "metadata": {},
   "outputs": [
    {
     "data": {
      "text/plain": [
       "'b'"
      ]
     },
     "execution_count": 30,
     "metadata": {},
     "output_type": "execute_result"
    }
   ],
   "source": [
    "nombre[7]"
   ]
  },
  {
   "cell_type": "markdown",
   "id": "be0adfd2",
   "metadata": {},
   "source": [
    "## Ciclo for"
   ]
  },
  {
   "cell_type": "code",
   "execution_count": 31,
   "id": "6f536e6f",
   "metadata": {},
   "outputs": [
    {
     "name": "stdout",
     "output_type": "stream",
     "text": [
      "A\n",
      "l\n",
      "a\n",
      "n\n",
      " \n",
      "C\n",
      "e\n",
      "b\n",
      "a\n",
      "l\n",
      "l\n",
      "o\n",
      "s\n",
      " \n",
      "M\n",
      "o\n",
      "r\n",
      "e\n",
      "n\n",
      "o\n"
     ]
    }
   ],
   "source": [
    "for elemento in nombre:\n",
    "    print(elemento) "
   ]
  },
  {
   "cell_type": "code",
   "execution_count": 32,
   "id": "5e2acc56",
   "metadata": {},
   "outputs": [
    {
     "name": "stdout",
     "output_type": "stream",
     "text": [
      "1\n",
      "66\n",
      "2\n",
      "3\n",
      "4\n",
      "5\n"
     ]
    }
   ],
   "source": [
    "for elemento in milista1:\n",
    "    print(elemento)"
   ]
  },
  {
   "cell_type": "markdown",
   "id": "fddd7120",
   "metadata": {},
   "source": [
    "## ------------------------------------------------------------"
   ]
  },
  {
   "cell_type": "markdown",
   "id": "d0897b2f",
   "metadata": {},
   "source": [
    "## Funciones de Python"
   ]
  },
  {
   "cell_type": "markdown",
   "id": "6fdd2c0b",
   "metadata": {},
   "source": [
    "Las funciones se definen con una palabra clave ***def*** y se tienen la sintaxis:\n",
    "\n",
    "''' def nombre_funcion (parametros): '''\n",
    "\n",
    "Para devolver un valor utilizamos la palabra clave ***return***"
   ]
  },
  {
   "cell_type": "markdown",
   "id": "59b06760",
   "metadata": {},
   "source": [
    "Ejemplo 1: Escribe una funcion en Python que encuentre el valor mas grande de una lista de numeros"
   ]
  },
  {
   "cell_type": "code",
   "execution_count": 33,
   "id": "11bb7ddc",
   "metadata": {},
   "outputs": [],
   "source": [
    "def busca_mayor (lista):\n",
    "    resultado = lista[0]\n",
    "    for numero in lista:\n",
    "        if numero > resultado:\n",
    "            resultado = numero\n",
    "    print(\"El numero mas grande es\",resultado)"
   ]
  },
  {
   "cell_type": "code",
   "execution_count": 34,
   "id": "c4951fd0",
   "metadata": {},
   "outputs": [
    {
     "name": "stdout",
     "output_type": "stream",
     "text": [
      "El numero mas grande es 1.5\n"
     ]
    }
   ],
   "source": [
    "mylista = [1,1.5,-2]\n",
    "busca_mayor(mylista)"
   ]
  },
  {
   "cell_type": "code",
   "execution_count": 35,
   "id": "215f5730",
   "metadata": {},
   "outputs": [
    {
     "data": {
      "text/plain": [
       "1"
      ]
     },
     "execution_count": 35,
     "metadata": {},
     "output_type": "execute_result"
    }
   ],
   "source": [
    "def busca_mayor2 (lista):\n",
    "    resultado = lista[0]\n",
    "    for numero in lista:\n",
    "        if numero > resultado:\n",
    "            resultado = numero\n",
    "        return resultado\n",
    "num_mayor = busca_mayor2 (mylista)\n",
    "num_mayor"
   ]
  },
  {
   "cell_type": "markdown",
   "id": "830999bc",
   "metadata": {},
   "source": [
    "Ejemplo 2: Escribe una funcion en Python que lea un string y lo devuelva al reves"
   ]
  },
  {
   "cell_type": "code",
   "execution_count": 36,
   "id": "547f2904",
   "metadata": {},
   "outputs": [
    {
     "data": {
      "text/plain": [
       "[5, 4, 3, 2, 1, 0]"
      ]
     },
     "execution_count": 36,
     "metadata": {},
     "output_type": "execute_result"
    }
   ],
   "source": [
    "[x for x in range (5,-1,-1)]"
   ]
  },
  {
   "cell_type": "code",
   "execution_count": 37,
   "id": "94cc337f",
   "metadata": {},
   "outputs": [
    {
     "name": "stdout",
     "output_type": "stream",
     "text": [
      "nalA\n"
     ]
    }
   ],
   "source": [
    "def revierte_cadena(cadena):\n",
    "    resultado = \"\"\n",
    "    for index in range (len(cadena)-1,-1,-1):\n",
    "        resultado = resultado + cadena[index]\n",
    "    print(resultado)\n",
    "\n",
    "revierte_cadena(\"Alan\")"
   ]
  },
  {
   "cell_type": "markdown",
   "id": "178e305d",
   "metadata": {},
   "source": [
    "## Ejercicios "
   ]
  },
  {
   "cell_type": "markdown",
   "id": "84fddbe1",
   "metadata": {},
   "source": [
    "1.Escribe una función que reciba un número positivo entero n y muestre un cuadrado de tamaño nxn usando el número positivo.\n"
   ]
  },
  {
   "cell_type": "code",
   "execution_count": 38,
   "id": "938eed65",
   "metadata": {},
   "outputs": [
    {
     "name": "stdout",
     "output_type": "stream",
     "text": [
      "Ingrese un número positivo entero: 10\n",
      "10 10 10 10 10 10 10 10 10 10 \n",
      "10 10 10 10 10 10 10 10 10 10 \n",
      "10 10 10 10 10 10 10 10 10 10 \n",
      "10 10 10 10 10 10 10 10 10 10 \n",
      "10 10 10 10 10 10 10 10 10 10 \n",
      "10 10 10 10 10 10 10 10 10 10 \n",
      "10 10 10 10 10 10 10 10 10 10 \n",
      "10 10 10 10 10 10 10 10 10 10 \n",
      "10 10 10 10 10 10 10 10 10 10 \n",
      "10 10 10 10 10 10 10 10 10 10 \n"
     ]
    }
   ],
   "source": [
    "def mostrar_cuadrado(n):\n",
    "    for i in range(n):\n",
    "        for j in range(n):\n",
    "            print(n, end=' ')\n",
    "        print()\n",
    "\n",
    "num = int(input(\"Ingrese un número positivo entero: \"))\n",
    "mostrar_cuadrado(num)\n"
   ]
  },
  {
   "cell_type": "markdown",
   "id": "c979365c",
   "metadata": {},
   "source": [
    "2.Escribe una función en Python que encuentre el palíndromo más cercano al valor de un número. Si hay dos palíndromos cuya distancia absoluta es la misma, muestra el valor más pequeño."
   ]
  },
  {
   "cell_type": "code",
   "execution_count": 40,
   "id": "4d82901c",
   "metadata": {},
   "outputs": [
    {
     "name": "stdout",
     "output_type": "stream",
     "text": [
      "12321\n",
      "121\n"
     ]
    }
   ],
   "source": [
    "def palindromo_cercano(num):\n",
    "    if str(num) == str(num)[::-1]:\n",
    "        return num  \n",
    "    palindromo_mas_cercano = None\n",
    "    distancia = float(\"inf\")  \n",
    "    i = 1\n",
    "    while True:\n",
    "        suma = num + i\n",
    "        resta = num - i\n",
    "        if str(suma) == str(suma)[::-1]:\n",
    "            if abs(suma - num) < distancia:\n",
    "                palindromo_mas_cercano = suma\n",
    "                distancia = abs(suma - num)\n",
    "            break\n",
    "        elif str(resta) == str(resta)[::-1]:\n",
    "            if abs(resta - num) < distancia:\n",
    "                palindromo_mas_cercano = resta\n",
    "                distancia = abs(resta - num)\n",
    "            break\n",
    "        i += 1\n",
    "    return palindromo_mas_cercano\n",
    "\n",
    "\n",
    "print(palindromo_cercano(12321))  \n",
    "print(palindromo_cercano(123))  \n"
   ]
  },
  {
   "cell_type": "markdown",
   "id": "69580fb3",
   "metadata": {},
   "source": [
    "3.Escribe una función en Python que encuentre los dígitos que no aparecen en un dado número de teléfono.\n"
   ]
  },
  {
   "cell_type": "code",
   "execution_count": 9,
   "id": "0245abb7",
   "metadata": {},
   "outputs": [
    {
     "name": "stdout",
     "output_type": "stream",
     "text": [
      "Ingrese un número de teléfono: 5520175285\n",
      "Los dígitos que faltan en el número de teléfono son: 3, 4, 6, 9\n"
     ]
    }
   ],
   "source": [
    "def encontrar_digitos(num_tel):\n",
    "    digitos = set(str(num_tel))\n",
    "    digitos_faltantes = set(str(i) for i in range(10)) - digitos\n",
    "    return digitos_faltantes\n",
    "\n",
    "\n",
    "telefono = input(\"Ingrese un número de teléfono: \")\n",
    "digitos_faltantes = encontrar_digitos(telefono)\n",
    "if digitos_faltantes:\n",
    "    print(\"Los dígitos que faltan en el número de teléfono son:\", \", \".join(digitos_faltantes))\n",
    "else:\n",
    "    print(\"Todos los dígitos están presentes en el número de teléfono.\")\n"
   ]
  },
  {
   "cell_type": "markdown",
   "id": "9ea9e270",
   "metadata": {},
   "source": [
    "4.Escribe una función en Python que calcule la suma de los dígitos de un número.\n"
   ]
  },
  {
   "cell_type": "code",
   "execution_count": 47,
   "id": "1ac65c87",
   "metadata": {},
   "outputs": [
    {
     "name": "stdout",
     "output_type": "stream",
     "text": [
      "Introduce un número: 5608993\n",
      "La suma de los dígitos de 5608993 es: 40\n"
     ]
    }
   ],
   "source": [
    "def sumar_digitos(numero):\n",
    "    \n",
    "    suma = 0\n",
    "    for digito in str(numero):\n",
    "        suma += int(digito)\n",
    "    return suma\n",
    "\n",
    "numero_usuario = input(\"Introduce un número: \")\n",
    "while not numero_usuario.isnumeric():\n",
    "    numero_usuario = input(\"Por favor, introduce un número válido: \")\n",
    "numero_usuario = int(numero_usuario)\n",
    "suma_digitos = sumar_digitos(numero_usuario)\n",
    "print(\"La suma de los dígitos de\", numero_usuario, \"es:\", suma_digitos)\n"
   ]
  },
  {
   "cell_type": "markdown",
   "id": "5c485ff5",
   "metadata": {},
   "source": [
    "5.Escribe una función en Python que reciba una oración y la convierta a una lista de palabras."
   ]
  },
  {
   "cell_type": "code",
   "execution_count": 10,
   "id": "a9a20e70",
   "metadata": {},
   "outputs": [
    {
     "name": "stdout",
     "output_type": "stream",
     "text": [
      "Introduce una oración: Hola soy Alan\n",
      "['Hola', 'soy', 'Alan']\n"
     ]
    }
   ],
   "source": [
    "def lista(oracion):\n",
    "   \n",
    "    lista_palabras = oracion.split()\n",
    "    return lista_palabras\n",
    "\n",
    "usuario = input(\"Introduce una oración: \")\n",
    "lista_palabras = lista(usuario)\n",
    "print(lista_palabras)\n"
   ]
  },
  {
   "cell_type": "markdown",
   "id": "3c676158",
   "metadata": {},
   "source": [
    "6.Escribe una función en Python que encuentre el dígito más grande y el más pequeño de un número.\n"
   ]
  },
  {
   "cell_type": "code",
   "execution_count": 11,
   "id": "0ee697b2",
   "metadata": {},
   "outputs": [
    {
     "name": "stdout",
     "output_type": "stream",
     "text": [
      "Introduce un número: 65789\n",
      "El dígito más grande es: 9\n",
      "El dígito más pequeño es: 5\n"
     ]
    }
   ],
   "source": [
    "def encontrar (num):\n",
    "    digitos = [int(d) for d in str(num)]  \n",
    "    max_digito = max(digitos)\n",
    "    min_digito = min(digitos)\n",
    "    return (max_digito, min_digito)\n",
    "\n",
    "numero_usuario = int(input(\"Introduce un número: \"))\n",
    "maximo, minimo = encontrar (numero_usuario)\n",
    "print(\"El dígito más grande es:\", maximo)\n",
    "print(\"El dígito más pequeño es:\", minimo)\n"
   ]
  },
  {
   "cell_type": "markdown",
   "id": "69fed491",
   "metadata": {},
   "source": [
    " 7.Escribe una función en Python que indique si en una cadena de caracteres aparecen dos simbolos iguales consecutivos."
   ]
  },
  {
   "cell_type": "code",
   "execution_count": 13,
   "id": "6d3b2899",
   "metadata": {},
   "outputs": [
    {
     "name": "stdout",
     "output_type": "stream",
     "text": [
      "Introduce una cadena de caracteres: holaaaa\n",
      "La cadena contiene dos símbolos iguales consecutivos.\n"
     ]
    }
   ],
   "source": [
    "def consecutivos(cadena):\n",
    "    \n",
    "    for i in range(len(cadena) - 1):\n",
    "        if cadena[i] == cadena[i+1]:\n",
    "            return True\n",
    "    return False\n",
    "\n",
    "cadena_usuario = input(\"Introduce una cadena de caracteres: \")\n",
    "if consecutivos(cadena_usuario):\n",
    "    print(\"La cadena contiene dos símbolos iguales consecutivos.\")\n",
    "else:\n",
    "    print(\"La cadena no contiene dos símbolos iguales consecutivos.\")\n"
   ]
  },
  {
   "cell_type": "markdown",
   "id": "67c54d2c",
   "metadata": {},
   "source": [
    "8.Escribe una función en Python que reciba una lista de palabras e indique la palabra más larga y su tamaño."
   ]
  },
  {
   "cell_type": "code",
   "execution_count": 42,
   "id": "aa10e472",
   "metadata": {},
   "outputs": [
    {
     "name": "stdout",
     "output_type": "stream",
     "text": [
      "La palabra más larga es Fin de Semana y su tamaño es 13\n"
     ]
    }
   ],
   "source": [
    "def palabra_mas_larga (lista_palabras):\n",
    "    palabra_larga = \"\"\n",
    "    tamano_largo = 0\n",
    "    for palabra in lista_palabras:\n",
    "        if len(palabra) > tamano_largo:\n",
    "            palabra_larga = palabra\n",
    "            tamano_largo = len(palabra)\n",
    "    return (palabra_larga, tamano_largo)\n",
    "\n",
    "lista_palabras = [\"La\", \"mejor\", \"canción\", \"es\", \"Fin de Semana\"]\n",
    "palabra, tamano = palabra_mas_larga(lista_palabras)\n",
    "print(\"La palabra más larga es\", palabra, \"y su tamaño es\", tamano)\n"
   ]
  },
  {
   "cell_type": "markdown",
   "id": "264fda73",
   "metadata": {},
   "source": [
    "9.Escribe una función en Python que reciba una cadena de caracteres y elimine aquellos cuyo índice sea un número impar.\n"
   ]
  },
  {
   "cell_type": "code",
   "execution_count": 43,
   "id": "ef9bb2fd",
   "metadata": {},
   "outputs": [
    {
     "name": "stdout",
     "output_type": "stream",
     "text": [
      "Introduce una cadena de caracteres: hola amigo\n",
      "La nueva cadena sin caracteres impares es: hl mg\n"
     ]
    }
   ],
   "source": [
    "def eliminar_caracteres_impares(cadena):\n",
    "    \n",
    "    nueva_cadena = \"\"\n",
    "    for i in range(len(cadena)):\n",
    "        if i % 2 == 0:\n",
    "            nueva_cadena += cadena[i]\n",
    "    return nueva_cadena\n",
    "\n",
    "cadena_usuario = input(\"Introduce una cadena de caracteres: \")\n",
    "nueva_cadena = eliminar_caracteres_impares(cadena_usuario)\n",
    "print(\"La nueva cadena sin caracteres impares es:\", nueva_cadena)\n"
   ]
  },
  {
   "cell_type": "markdown",
   "id": "0300c7f5",
   "metadata": {},
   "source": [
    "10.Escribe una función en Python que ordene una cadena de caracteres de manera lexicográfica."
   ]
  },
  {
   "cell_type": "code",
   "execution_count": 44,
   "id": "47827790",
   "metadata": {},
   "outputs": [
    {
     "name": "stdout",
     "output_type": "stream",
     "text": [
      "Introduce una cadena de caracteres: hola como estas\n",
      "La nueva cadena ordenada es:   aacehlmooosst\n"
     ]
    }
   ],
   "source": [
    "def ordenar_cadena(cadena):\n",
    "    lista_caracteres = list(cadena)\n",
    "    lista_caracteres.sort()\n",
    "    nueva_cadena = \"\".join(lista_caracteres)\n",
    "    return nueva_cadena\n",
    "\n",
    "cadena_usuario = input(\"Introduce una cadena de caracteres: \")\n",
    "nueva_cadena = ordenar_cadena(cadena_usuario)\n",
    "print(\"La nueva cadena ordenada es:\", nueva_cadena)\n"
   ]
  },
  {
   "cell_type": "markdown",
   "id": "9f2df38d",
   "metadata": {},
   "source": [
    "11.Escribe una funcion en Python que reciba un conjunto de valores RGB y los convierta a codigo Hexadecimal"
   ]
  },
  {
   "cell_type": "code",
   "execution_count": 48,
   "id": "b74dc951",
   "metadata": {},
   "outputs": [
    {
     "name": "stdout",
     "output_type": "stream",
     "text": [
      "#ff6432\n"
     ]
    }
   ],
   "source": [
    "def rgb_a_hex(red, green, blue):\n",
    "    \n",
    "    hex_red = format(red, '02x')\n",
    "    hex_green = format(green, '02x')\n",
    "    hex_blue = format(blue, '02x')\n",
    "\n",
    "    codigo_hexadecimal = '#' + hex_red + hex_green + hex_blue\n",
    "\n",
    "    return codigo_hexadecimal\n",
    "\n",
    "red = 255\n",
    "green = 100\n",
    "blue = 50\n",
    "\n",
    "print(rgb_a_hex(red, green, blue)) \n",
    "\n"
   ]
  },
  {
   "cell_type": "markdown",
   "id": "713047a3",
   "metadata": {},
   "source": [
    "12.Escribe una función en Python que convierta los valores de una tupla a string "
   ]
  },
  {
   "cell_type": "code",
   "execution_count": 49,
   "id": "7b0de125",
   "metadata": {},
   "outputs": [
    {
     "name": "stdout",
     "output_type": "stream",
     "text": [
      "1, 2, 3, 4, 5, 6\n",
      "hola, mi, nombre, es, Alan, 123456\n"
     ]
    }
   ],
   "source": [
    "def string(tupla):\n",
    "    elementos_cadena = [str(elemento) for elemento in tupla]\n",
    "\n",
    "    cadena_resultante = ', '.join(elementos_cadena)\n",
    "\n",
    "    return cadena_resultante\n",
    "\n",
    "tupla1 = (1, 2, 3, 4, 5, 6)\n",
    "tupla2 = ('hola', 'mi','nombre', 'es', 'Alan', 123456)\n",
    "\n",
    "print(string(tupla1))  \n",
    "print(string(tupla2))  \n",
    "\n"
   ]
  },
  {
   "cell_type": "markdown",
   "id": "007a428b",
   "metadata": {},
   "source": [
    "13.Escribe una función en Python que sume todos los valores numéricos de una lista "
   ]
  },
  {
   "cell_type": "code",
   "execution_count": 50,
   "id": "fca29846",
   "metadata": {},
   "outputs": [
    {
     "name": "stdout",
     "output_type": "stream",
     "text": [
      "28\n",
      "36\n"
     ]
    }
   ],
   "source": [
    "def numericos(lista):\n",
    "    suma = 0  \n",
    "\n",
    "    for elemento in lista:\n",
    "        if isinstance(elemento, (int, float)):\n",
    "            suma += elemento\n",
    "\n",
    "    return suma\n",
    "\n",
    "lista1 = [1, 2, 3, 4, 5, 6, 7]\n",
    "lista2 = ['hola', 10, True, 15, 10,'amigo']\n",
    "print(numericos(lista1))  \n",
    "print(numericos(lista2))  \n",
    "\n"
   ]
  },
  {
   "cell_type": "markdown",
   "id": "ca35c123",
   "metadata": {},
   "source": [
    "14.Escribe una función en Python que remueva valores duplicados de una lista"
   ]
  },
  {
   "cell_type": "code",
   "execution_count": 51,
   "id": "194a803d",
   "metadata": {},
   "outputs": [
    {
     "name": "stdout",
     "output_type": "stream",
     "text": [
      "[1, 2, 3, 4, 5, 6, 7]\n",
      "['hola', 'mundo', 'canción']\n"
     ]
    }
   ],
   "source": [
    "def duplicados(lista):\n",
    "    conjunto = set()\n",
    "    for elemento in lista:\n",
    "        conjunto.add(elemento)  \n",
    "    return list(conjunto)\n",
    "\n",
    "lista1 = [1, 2, 3, 4, 4, 5, 6, 5, 7, 7]\n",
    "lista2 = ['hola', 'hola', 'canción', 'mundo', 'canción']\n",
    "\n",
    "print(duplicados(lista1))  \n",
    "print(duplicados(lista2))  \n",
    "\n"
   ]
  },
  {
   "cell_type": "markdown",
   "id": "38006a0e",
   "metadata": {},
   "source": [
    "15.Escribe una función en Python que revise si una lista esta vacía o no"
   ]
  },
  {
   "cell_type": "code",
   "execution_count": 52,
   "id": "730555cf",
   "metadata": {},
   "outputs": [
    {
     "name": "stdout",
     "output_type": "stream",
     "text": [
      "True\n",
      "False\n"
     ]
    }
   ],
   "source": [
    "def lista_vacia(lista):\n",
    "    if len(lista) == 0:\n",
    "        return True\n",
    "    else:\n",
    "        return False\n",
    "\n",
    "lista1 = []\n",
    "lista2 = [1, 2, 3, 4, 5, 6, 7,]\n",
    "\n",
    "print(lista_vacia(lista1)) \n",
    "print(lista_vacia(lista2))  \n"
   ]
  },
  {
   "cell_type": "markdown",
   "id": "17de2f5a",
   "metadata": {},
   "source": [
    "16.Escribe una función en Python que genere todas las permutaciones de una lista."
   ]
  },
  {
   "cell_type": "code",
   "execution_count": 53,
   "id": "dc25447b",
   "metadata": {},
   "outputs": [
    {
     "name": "stdout",
     "output_type": "stream",
     "text": [
      "(1, 2, 3, 4)\n",
      "(1, 2, 4, 3)\n",
      "(1, 3, 2, 4)\n",
      "(1, 3, 4, 2)\n",
      "(1, 4, 2, 3)\n",
      "(1, 4, 3, 2)\n",
      "(2, 1, 3, 4)\n",
      "(2, 1, 4, 3)\n",
      "(2, 3, 1, 4)\n",
      "(2, 3, 4, 1)\n",
      "(2, 4, 1, 3)\n",
      "(2, 4, 3, 1)\n",
      "(3, 1, 2, 4)\n",
      "(3, 1, 4, 2)\n",
      "(3, 2, 1, 4)\n",
      "(3, 2, 4, 1)\n",
      "(3, 4, 1, 2)\n",
      "(3, 4, 2, 1)\n",
      "(4, 1, 2, 3)\n",
      "(4, 1, 3, 2)\n",
      "(4, 2, 1, 3)\n",
      "(4, 2, 3, 1)\n",
      "(4, 3, 1, 2)\n",
      "(4, 3, 2, 1)\n"
     ]
    }
   ],
   "source": [
    "from itertools import permutations\n",
    "\n",
    "def permutaciones1(lista):\n",
    "    permutaciones = permutations(lista)\n",
    "    for p in permutaciones:\n",
    "        print(p)\n",
    "        \n",
    "permutaciones1([1, 2, 3, 4])\n",
    "\n"
   ]
  },
  {
   "cell_type": "markdown",
   "id": "2602c62d",
   "metadata": {},
   "source": [
    "17.Escribe una función en Python que encuentre el segundo valor más grande de una lista de números.\n"
   ]
  },
  {
   "cell_type": "code",
   "execution_count": 54,
   "id": "7eef9b28",
   "metadata": {},
   "outputs": [
    {
     "name": "stdout",
     "output_type": "stream",
     "text": [
      "11\n"
     ]
    }
   ],
   "source": [
    "def mas_grande(lista):\n",
    "    lista.sort(reverse=True)\n",
    "    \n",
    "    segundo_valor = lista[1]\n",
    "    \n",
    "    return segundo_valor\n",
    "\n",
    "lista_numeros = [1, 5, 2, 9, 10, 6, 7, 11, 15]\n",
    "segundo_valor = mas_grande(lista_numeros)\n",
    "print(segundo_valor)\n"
   ]
  },
  {
   "cell_type": "markdown",
   "id": "22f2b4d9",
   "metadata": {},
   "source": [
    "18.Escribe una función en Python que imprima todos los valores únicos de una lista.\n"
   ]
  },
  {
   "cell_type": "code",
   "execution_count": 55,
   "id": "13710a46",
   "metadata": {},
   "outputs": [
    {
     "name": "stdout",
     "output_type": "stream",
     "text": [
      "1\n",
      "2\n",
      "3\n",
      "4\n",
      "5\n",
      "6\n",
      "7\n",
      "8\n",
      "9\n"
     ]
    }
   ],
   "source": [
    "def valores_unicos(lista):\n",
    "    valores = set()\n",
    "    \n",
    "    for valor in lista:\n",
    "        valores.add(valor)\n",
    "    \n",
    "    for valor in valores:\n",
    "        print(valor)\n",
    "\n",
    "numeros = [1, 2, 3, 2, 4, 3, 5, 1, 6,7, 7,8,8,9,9]\n",
    "valores_unicos(numeros)\n"
   ]
  },
  {
   "cell_type": "markdown",
   "id": "d779d466",
   "metadata": {},
   "source": [
    "19.Escribe una función en Python que convierta una cadena a una lista."
   ]
  },
  {
   "cell_type": "code",
   "execution_count": 56,
   "id": "ad3ef093",
   "metadata": {},
   "outputs": [
    {
     "name": "stdout",
     "output_type": "stream",
     "text": [
      "['Hola', 'me', 'llamo', 'Alan']\n"
     ]
    }
   ],
   "source": [
    "def cadena_a_lista(cadena, separador=\" \"):\n",
    "    \n",
    "    lista = cadena.split(separador)\n",
    "    \n",
    "    return lista\n",
    "\n",
    "cadena = \"Hola,me,llamo,Alan\"\n",
    "lista_elementos = cadena_a_lista(cadena, \",\")\n",
    "print(lista_elementos)\n"
   ]
  },
  {
   "cell_type": "markdown",
   "id": "19bbb274",
   "metadata": {},
   "source": [
    "20.Escribe una función en Python que revise si un string es palíndromo o по\n"
   ]
  },
  {
   "cell_type": "code",
   "execution_count": 57,
   "id": "0f521071",
   "metadata": {},
   "outputs": [
    {
     "name": "stdout",
     "output_type": "stream",
     "text": [
      "El azul no es un palíndromo.\n",
      "Fin de Semana no es un palíndromo.\n"
     ]
    }
   ],
   "source": [
    "def palindromo(cadena):\n",
    "    cadena = cadena.lower()\n",
    "    \n",
    "    invertido = cadena[::-1]\n",
    "    \n",
    "    if cadena == invertido:\n",
    "        return True\n",
    "    else:\n",
    "        return False\n",
    "\n",
    "cadena1 = \"El azul\"\n",
    "if palindromo(cadena1):\n",
    "    print(f\"{cadena1} es un palíndromo.\")\n",
    "else:\n",
    "    print(f\"{cadena1} no es un palíndromo.\")\n",
    "    \n",
    "cadena2 = \"Fin de Semana\"\n",
    "if palindromo(cadena2):\n",
    "    print(f\"{cadena2} es un palíndromo.\")\n",
    "else:\n",
    "    print(f\"{cadena2} no es un palíndromo.\")"
   ]
  }
 ],
 "metadata": {
  "kernelspec": {
   "display_name": "Python 3 (ipykernel)",
   "language": "python",
   "name": "python3"
  },
  "language_info": {
   "codemirror_mode": {
    "name": "ipython",
    "version": 3
   },
   "file_extension": ".py",
   "mimetype": "text/x-python",
   "name": "python",
   "nbconvert_exporter": "python",
   "pygments_lexer": "ipython3",
   "version": "3.9.13"
  }
 },
 "nbformat": 4,
 "nbformat_minor": 5
}
