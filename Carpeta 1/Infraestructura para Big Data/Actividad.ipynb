{
 "cells": [
  {
   "cell_type": "code",
   "execution_count": 1,
   "id": "7e3f6ebc-253b-4487-8ff1-334deaca4ca4",
   "metadata": {},
   "outputs": [
    {
     "name": "stdout",
     "output_type": "stream",
     "text": [
      "Requirement already satisfied: pymongo in g:\\programs\\anaconda\\lib\\site-packages (4.6.2)\n",
      "Requirement already satisfied: dnspython<3.0.0,>=1.16.0 in g:\\programs\\anaconda\\lib\\site-packages (from pymongo) (2.6.1)\n"
     ]
    }
   ],
   "source": [
    "!pip install pymongo"
   ]
  },
  {
   "cell_type": "code",
   "execution_count": 2,
   "id": "d6425c8a-fdeb-4958-8901-d7e10203441e",
   "metadata": {},
   "outputs": [],
   "source": [
    "import pymongo"
   ]
  },
  {
   "cell_type": "code",
   "execution_count": 5,
   "id": "91ee36ff-530f-4737-bc98-584b56349c44",
   "metadata": {},
   "outputs": [],
   "source": [
    "# To connect to MongoDB server:\n",
    "client = pymongo.MongoClient('localhost', 27017)\n",
    "\n",
    "# Create Database:\n",
    "db = client.mongodb_workshop\n",
    "\n",
    "# Create Collection:\n",
    "collection = db.collection[\"estudiantes\"]"
   ]
  },
  {
   "cell_type": "code",
   "execution_count": 9,
   "id": "6c98621a-2557-448e-8a3f-fbb1c1f4db85",
   "metadata": {},
   "outputs": [],
   "source": [
    "# One document:\n",
    "doc_2 = [\n",
    "    {\"_id\": 1, \"nombre\": \"Alan\", \"apellido\": \"Ceballos\", \"edad\" : \"20\", \"Promedio\" : \"96\"},\n",
    "    {\"_id\": 2, \"nombre\": \"Pablo\", \"apellido\": \"Escalante\", \"edad\" : \"21\", \"Promedio\" : \"95\"},\n",
    "    {\"_id\": 3, \"nombre\": \"Andrea\", \"apellido\": \"Lizeth\", \"edad\" : \"22\", \"Promedio\" : \"97\"},\n",
    "    {\"_id\": 4, \"nombre\": \"Ian\", \"apellido\": \"Reyes\", \"edad\" : \"26\", \"Promedio\" : \"95\"},\n",
    "    {\"_id\": 5, \"nombre\": \"Karol\", \"apellido\": \"Mar\", \"edad\" : \"20\", \"Promedio\" : \"95\"},\n",
    "    {\"_id\": 6, \"nombre\": \"Christopher\", \"apellido\": \"Ceballos\", \"edad\" : \"18\", \"Promedio\" : \"98\"},\n",
    "    {\"_id\": 7, \"nombre\": \"Adrian\", \"apellido\": \"Sanchez\", \"edad\" : \"20\", \"Promedio\" : \"80\"},\n",
    "    {\"_id\": 8, \"nombre\": \"Julian\", \"apellido\": \"Alvarez\", \"edad\" : \"19\", \"Promedio\" : \"95\"},\n",
    "    {\"_id\": 9, \"nombre\": \"Alejandro\", \"apellido\": \"Perez\", \"edad\" : \"21\", \"Promedio\" : \"92\"},\n",
    "    {\"_id\": 10, \"nombre\": \"Ivan\", \"apellido\": \"Garcia\", \"edad\" : \"22\", \"Promedio\" : \"85\"}\n",
    "]"
   ]
  },
  {
   "cell_type": "code",
   "execution_count": 10,
   "id": "e55c0158-0b85-4f72-a924-6deafa870f9a",
   "metadata": {},
   "outputs": [
    {
     "data": {
      "text/plain": [
       "InsertManyResult([1, 2, 3, 4, 5, 6, 7, 8, 9, 10], acknowledged=True)"
      ]
     },
     "execution_count": 10,
     "metadata": {},
     "output_type": "execute_result"
    }
   ],
   "source": [
    "# To insert multiple documents:\n",
    "collection.insert_many(doc_2)"
   ]
  },
  {
   "cell_type": "code",
   "execution_count": null,
   "id": "acb6f73c-adeb-41cb-8415-12ff13c40122",
   "metadata": {},
   "outputs": [],
   "source": []
  }
 ],
 "metadata": {
  "kernelspec": {
   "display_name": "Python 3 (ipykernel)",
   "language": "python",
   "name": "python3"
  },
  "language_info": {
   "codemirror_mode": {
    "name": "ipython",
    "version": 3
   },
   "file_extension": ".py",
   "mimetype": "text/x-python",
   "name": "python",
   "nbconvert_exporter": "python",
   "pygments_lexer": "ipython3",
   "version": "3.11.7"
  }
 },
 "nbformat": 4,
 "nbformat_minor": 5
}
